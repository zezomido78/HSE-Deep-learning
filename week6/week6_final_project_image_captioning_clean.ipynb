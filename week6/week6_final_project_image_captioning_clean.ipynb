{
  "nbformat": 4,
  "nbformat_minor": 0,
  "metadata": {
    "kernelspec": {
      "display_name": "Python 3",
      "language": "python",
      "name": "python3"
    },
    "language_info": {
      "codemirror_mode": {
        "name": "ipython",
        "version": 3
      },
      "file_extension": ".py",
      "mimetype": "text/x-python",
      "name": "python",
      "nbconvert_exporter": "python",
      "pygments_lexer": "ipython3",
      "version": "3.6.5"
    },
    "toc": {
      "colors": {
        "hover_highlight": "#DAA520",
        "navigate_num": "#000000",
        "navigate_text": "#333333",
        "running_highlight": "#FF0000",
        "selected_highlight": "#FFD700",
        "sidebar_border": "#EEEEEE",
        "wrapper_background": "#FFFFFF"
      },
      "moveMenuLeft": true,
      "nav_menu": {
        "height": "157px",
        "width": "252px"
      },
      "navigate_menu": true,
      "number_sections": true,
      "sideBar": true,
      "threshold": 4,
      "toc_cell": false,
      "toc_section_display": "block",
      "toc_window_display": false,
      "widenNotebook": false
    },
    "colab": {
      "name": "week6_final_project_image_captioning_clean.ipynb",
      "provenance": []
    },
    "accelerator": "GPU"
  },
  "cells": [
    {
      "cell_type": "code",
      "metadata": {
        "id": "Mfhw89xWAfeL"
      },
      "source": [
        "# set tf 1.x for colab\n",
        "%tensorflow_version 1.x"
      ],
      "execution_count": null,
      "outputs": []
    },
    {
      "cell_type": "code",
      "metadata": {
        "id": "CB8gizCZAmUE",
        "outputId": "c97a8994-d231-4791-97ca-d195de0d0635",
        "colab": {
          "base_uri": "https://localhost:8080/"
        }
      },
      "source": [
        "! shred -u setup_google_colab.py\n",
        "! wget https://raw.githubusercontent.com/hse-aml/intro-to-dl/master/setup_google_colab.py -O setup_google_colab.py\n",
        "import setup_google_colab\n",
        "# please, uncomment the week you're working on\n",
        "# setup_google_colab.setup_week1()\n",
        "# setup_google_colab.setup_week2()\n",
        "# setup_google_colab.setup_week2_honor()\n",
        "# setup_google_colab.setup_week3()\n",
        "# setup_google_colab.setup_week4()\n",
        "# setup_google_colab.setup_week5()\n",
        "setup_google_colab.setup_week6()"
      ],
      "execution_count": 1,
      "outputs": [
        {
          "output_type": "stream",
          "text": [
            "shred: setup_google_colab.py: failed to open for writing: No such file or directory\n",
            "--2021-08-05 20:30:52--  https://raw.githubusercontent.com/hse-aml/intro-to-dl/master/setup_google_colab.py\n",
            "Resolving raw.githubusercontent.com (raw.githubusercontent.com)... 185.199.110.133, 185.199.108.133, 185.199.111.133, ...\n",
            "Connecting to raw.githubusercontent.com (raw.githubusercontent.com)|185.199.110.133|:443... connected.\n",
            "HTTP request sent, awaiting response... 200 OK\n",
            "Length: 3636 (3.6K) [text/plain]\n",
            "Saving to: ‘setup_google_colab.py’\n",
            "\n",
            "setup_google_colab. 100%[===================>]   3.55K  --.-KB/s    in 0s      \n",
            "\n",
            "2021-08-05 20:30:52 (46.0 MB/s) - ‘setup_google_colab.py’ saved [3636/3636]\n",
            "\n",
            "**************************************************\n",
            "captions_train-val2014.zip\n",
            "**************************************************\n",
            "train2014_sample.zip\n",
            "**************************************************\n",
            "train_img_embeds.pickle\n",
            "**************************************************\n",
            "train_img_fns.pickle\n",
            "**************************************************\n",
            "val2014_sample.zip\n",
            "**************************************************\n",
            "val_img_embeds.pickle\n",
            "**************************************************\n",
            "val_img_fns.pickle\n",
            "**************************************************\n",
            "inception_v3_weights_tf_dim_ordering_tf_kernels_notop.h5\n",
            "**************************************************\n",
            "cifar-10-batches-py.tar.gz\n",
            "**************************************************\n",
            "mnist.npz\n"
          ],
          "name": "stdout"
        }
      ]
    },
    {
      "cell_type": "markdown",
      "metadata": {
        "id": "mc8HLnsmAfeP"
      },
      "source": [
        "# Image Captioning Final Project\n",
        "\n",
        "In this final project you will define and train an image-to-caption model, that can produce descriptions for real world images!\n",
        "\n",
        "<img src=\"https://github.com/hse-aml/intro-to-dl/blob/master/week6/images/encoder_decoder.png?raw=1\" style=\"width:70%\">\n",
        "\n",
        "Model architecture: CNN encoder and RNN decoder. \n",
        "(https://research.googleblog.com/2014/11/a-picture-is-worth-thousand-coherent.html)"
      ]
    },
    {
      "cell_type": "markdown",
      "metadata": {
        "ExecuteTime": {
          "end_time": "2017-08-27T10:16:46.508273Z",
          "start_time": "2017-08-27T10:16:46.506062Z"
        },
        "id": "dHoppAPLAfeP"
      },
      "source": [
        "# Import stuff"
      ]
    },
    {
      "cell_type": "code",
      "metadata": {
        "ExecuteTime": {
          "end_time": "2017-09-17T12:30:35.584796Z",
          "start_time": "2017-09-17T12:30:35.581343Z"
        },
        "id": "VGmgEjpBAfeQ"
      },
      "source": [
        "import sys\n",
        "sys.path.append(\"..\")\n",
        "import grading\n",
        "import download_utils"
      ],
      "execution_count": 2,
      "outputs": []
    },
    {
      "cell_type": "code",
      "metadata": {
        "id": "6IaCitVNAfeQ"
      },
      "source": [
        "download_utils.link_all_keras_resources()"
      ],
      "execution_count": 3,
      "outputs": []
    },
    {
      "cell_type": "code",
      "metadata": {
        "ExecuteTime": {
          "end_time": "2017-09-17T14:32:05.229736Z",
          "start_time": "2017-09-17T14:31:56.495874Z"
        },
        "id": "fY6uTCr2AfeR"
      },
      "source": [
        "import tensorflow as tf\n",
        "from tensorflow import keras\n",
        "import numpy as np\n",
        "%matplotlib inline\n",
        "import matplotlib.pyplot as plt\n",
        "L = keras.layers\n",
        "K = keras.backend\n",
        "import utils\n",
        "import time\n",
        "import zipfile\n",
        "import json\n",
        "from collections import defaultdict\n",
        "import re\n",
        "import random\n",
        "from random import choice\n",
        "import grading_utils\n",
        "import os\n",
        "\n",
        "import tqdm_utils"
      ],
      "execution_count": 6,
      "outputs": []
    },
    {
      "cell_type": "markdown",
      "metadata": {
        "id": "zRAoJ72CAfeR"
      },
      "source": [
        "# Prepare the storage for model checkpoints"
      ]
    },
    {
      "cell_type": "code",
      "metadata": {
        "id": "4mpJGy9BAfeS",
        "outputId": "095bdde3-572a-45a5-b47f-75a3b3c453a3",
        "colab": {
          "base_uri": "https://localhost:8080/"
        }
      },
      "source": [
        "# Leave USE_GOOGLE_DRIVE = False if you're running locally!\n",
        "# We recommend to set USE_GOOGLE_DRIVE = True in Google Colab!\n",
        "# If set to True, we will mount Google Drive, so that you can restore your checkpoint \n",
        "# and continue trainig even if your previous Colab session dies.\n",
        "# If set to True, follow on-screen instructions to access Google Drive (you must have a Google account).\n",
        "USE_GOOGLE_DRIVE = True\n",
        "\n",
        "def mount_google_drive():\n",
        "    from google.colab import drive\n",
        "    mount_directory = \"/content/gdrive\"\n",
        "    drive.mount(mount_directory)\n",
        "    drive_root = mount_directory + \"/\" + list(filter(lambda x: x[0] != '.', os.listdir(mount_directory)))[0] + \"/colab\"\n",
        "    return drive_root\n",
        "\n",
        "CHECKPOINT_ROOT = \"\"\n",
        "if USE_GOOGLE_DRIVE:\n",
        "    CHECKPOINT_ROOT = mount_google_drive() + \"/\"\n",
        "\n",
        "def get_checkpoint_path(epoch=None):\n",
        "    if epoch is None:\n",
        "        return os.path.abspath(CHECKPOINT_ROOT + \"weights\")\n",
        "    else:\n",
        "        return os.path.abspath(CHECKPOINT_ROOT + \"weights_{}\".format(epoch))\n",
        "      \n",
        "# example of checkpoint dir\n",
        "print(get_checkpoint_path(10))"
      ],
      "execution_count": 7,
      "outputs": [
        {
          "output_type": "stream",
          "text": [
            "Mounted at /content/gdrive\n",
            "/content/gdrive/MyDrive/colab/weights_10\n"
          ],
          "name": "stdout"
        }
      ]
    },
    {
      "cell_type": "markdown",
      "metadata": {
        "id": "YFF3SzNlAfeT"
      },
      "source": [
        "# Fill in your Coursera token and email\n",
        "To successfully submit your answers to our grader, please fill in your Coursera submission token and email"
      ]
    },
    {
      "cell_type": "code",
      "metadata": {
        "id": "glG7Iz6PAfeT"
      },
      "source": [
        "grader = grading.Grader(assignment_key=\"NEDBg6CgEee8nQ6uE8a7OA\", \n",
        "                        all_parts=[\"19Wpv\", \"uJh73\", \"yiJkt\", \"rbpnH\", \"E2OIL\", \"YJR7z\"])"
      ],
      "execution_count": 8,
      "outputs": []
    },
    {
      "cell_type": "code",
      "metadata": {
        "id": "4Gp2_NThAfeU"
      },
      "source": [
        "# token expires every 30 min\n",
        "COURSERA_TOKEN = \"YKSRSK3rTuGQZqvC\"\n",
        "COURSERA_EMAIL = \"zezomido787@gmail.com\""
      ],
      "execution_count": 166,
      "outputs": []
    },
    {
      "cell_type": "markdown",
      "metadata": {
        "id": "DJH4_CwuAfeU"
      },
      "source": [
        "# Download data\n",
        "\n",
        "Takes 10 hours and 20 GB. We've downloaded necessary files for you.\n",
        "\n",
        "Relevant links (just in case):\n",
        "- train images http://msvocds.blob.core.windows.net/coco2014/train2014.zip\n",
        "- validation images http://msvocds.blob.core.windows.net/coco2014/val2014.zip\n",
        "- captions for both train and validation http://msvocds.blob.core.windows.net/annotations-1-0-3/captions_train-val2014.zip"
      ]
    },
    {
      "cell_type": "code",
      "metadata": {
        "id": "xJQQn2QCAfeU"
      },
      "source": [
        "# we downloaded them for you, just link them here\n",
        "download_utils.link_week_6_resources()"
      ],
      "execution_count": 9,
      "outputs": []
    },
    {
      "cell_type": "markdown",
      "metadata": {
        "ExecuteTime": {
          "end_time": "2017-08-27T10:23:45.863881Z",
          "start_time": "2017-08-27T10:23:45.861693Z"
        },
        "id": "ugqzpE5ZAfeX"
      },
      "source": [
        "# Extract image features\n",
        "\n",
        "We will use pre-trained InceptionV3 model for CNN encoder (https://research.googleblog.com/2016/03/train-your-own-image-classifier-with.html) and extract its last hidden layer as an embedding:\n",
        "\n",
        "<img src=\"https://github.com/hse-aml/intro-to-dl/blob/master/week6/images/inceptionv3.png?raw=1\" style=\"width:70%\">"
      ]
    },
    {
      "cell_type": "code",
      "metadata": {
        "ExecuteTime": {
          "end_time": "2017-09-17T14:32:09.629321Z",
          "start_time": "2017-09-17T14:32:09.627108Z"
        },
        "id": "JVd0i71GAfea"
      },
      "source": [
        "IMG_SIZE = 299"
      ],
      "execution_count": 10,
      "outputs": []
    },
    {
      "cell_type": "code",
      "metadata": {
        "ExecuteTime": {
          "end_time": "2017-09-17T14:32:09.836606Z",
          "start_time": "2017-09-17T14:32:09.831028Z"
        },
        "id": "ef1TeiauAfea"
      },
      "source": [
        "# we take the last hidden layer of IncetionV3 as an image embedding\n",
        "def get_cnn_encoder():\n",
        "    K.set_learning_phase(False)\n",
        "    model = keras.applications.InceptionV3(include_top=False)\n",
        "    preprocess_for_model = keras.applications.inception_v3.preprocess_input\n",
        "\n",
        "    model = keras.models.Model(model.inputs, keras.layers.GlobalAveragePooling2D()(model.output))\n",
        "    return model, preprocess_for_model"
      ],
      "execution_count": 11,
      "outputs": []
    },
    {
      "cell_type": "markdown",
      "metadata": {
        "id": "wvughJQqAfea"
      },
      "source": [
        "Features extraction takes too much time on CPU:\n",
        "- Takes 16 minutes on GPU.\n",
        "- 25x slower (InceptionV3) on CPU and takes 7 hours.\n",
        "- 10x slower (MobileNet) on CPU and takes 3 hours.\n",
        "\n",
        "So we've done it for you with the following code:\n",
        "```python\n",
        "# load pre-trained model\n",
        "reset_tf_session()\n",
        "encoder, preprocess_for_model = get_cnn_encoder()\n",
        "\n",
        "# extract train features\n",
        "train_img_embeds, train_img_fns = utils.apply_model(\n",
        "    \"train2014.zip\", encoder, preprocess_for_model, input_shape=(IMG_SIZE, IMG_SIZE))\n",
        "utils.save_pickle(train_img_embeds, \"train_img_embeds.pickle\")\n",
        "utils.save_pickle(train_img_fns, \"train_img_fns.pickle\")\n",
        "\n",
        "# extract validation features\n",
        "val_img_embeds, val_img_fns = utils.apply_model(\n",
        "    \"val2014.zip\", encoder, preprocess_for_model, input_shape=(IMG_SIZE, IMG_SIZE))\n",
        "utils.save_pickle(val_img_embeds, \"val_img_embeds.pickle\")\n",
        "utils.save_pickle(val_img_fns, \"val_img_fns.pickle\")\n",
        "\n",
        "# sample images for learners\n",
        "def sample_zip(fn_in, fn_out, rate=0.01, seed=42):\n",
        "    np.random.seed(seed)\n",
        "    with zipfile.ZipFile(fn_in) as fin, zipfile.ZipFile(fn_out, \"w\") as fout:\n",
        "        sampled = filter(lambda _: np.random.rand() < rate, fin.filelist)\n",
        "        for zInfo in sampled:\n",
        "            fout.writestr(zInfo, fin.read(zInfo))\n",
        "            \n",
        "sample_zip(\"train2014.zip\", \"train2014_sample.zip\")\n",
        "sample_zip(\"val2014.zip\", \"val2014_sample.zip\")\n",
        "```"
      ]
    },
    {
      "cell_type": "code",
      "metadata": {
        "ExecuteTime": {
          "end_time": "2017-09-17T14:32:12.621413Z",
          "start_time": "2017-09-17T14:32:11.986281Z"
        },
        "id": "AG7boc3EAfeb",
        "outputId": "c9fda770-167a-4131-cd5b-e0030a9aff4d",
        "colab": {
          "base_uri": "https://localhost:8080/"
        }
      },
      "source": [
        "# load prepared embeddings\n",
        "train_img_embeds = utils.read_pickle(\"train_img_embeds.pickle\")\n",
        "train_img_fns = utils.read_pickle(\"train_img_fns.pickle\")\n",
        "val_img_embeds = utils.read_pickle(\"val_img_embeds.pickle\")\n",
        "val_img_fns = utils.read_pickle(\"val_img_fns.pickle\")\n",
        "# check shapes\n",
        "print(train_img_embeds.shape, len(train_img_fns))\n",
        "print(val_img_embeds.shape, len(val_img_fns))"
      ],
      "execution_count": 12,
      "outputs": [
        {
          "output_type": "stream",
          "text": [
            "(82783, 2048) 82783\n",
            "(40504, 2048) 40504\n"
          ],
          "name": "stdout"
        }
      ]
    },
    {
      "cell_type": "code",
      "metadata": {
        "ExecuteTime": {
          "end_time": "2017-09-17T14:32:21.515330Z",
          "start_time": "2017-09-17T14:32:21.400879Z"
        },
        "id": "gf4UzHOMAfec",
        "outputId": "5f3fd84d-91c4-463a-9659-b0b0e4488d7d",
        "colab": {
          "base_uri": "https://localhost:8080/"
        }
      },
      "source": [
        "# check prepared samples of images\n",
        "list(filter(lambda x: x.endswith(\"_sample.zip\"), os.listdir(\".\")))"
      ],
      "execution_count": 13,
      "outputs": [
        {
          "output_type": "execute_result",
          "data": {
            "text/plain": [
              "['val2014_sample.zip', 'train2014_sample.zip']"
            ]
          },
          "metadata": {
            "tags": []
          },
          "execution_count": 13
        }
      ]
    },
    {
      "cell_type": "markdown",
      "metadata": {
        "id": "ox6E_KZHAfed"
      },
      "source": [
        "# Extract captions for images"
      ]
    },
    {
      "cell_type": "code",
      "metadata": {
        "ExecuteTime": {
          "end_time": "2017-09-17T14:32:24.897276Z",
          "start_time": "2017-09-17T14:32:22.942805Z"
        },
        "id": "eOggMJpEAfed",
        "outputId": "4e820372-d901-48b6-a825-3b5ad8506a7e",
        "colab": {
          "base_uri": "https://localhost:8080/"
        }
      },
      "source": [
        "# extract captions from zip\n",
        "def get_captions_for_fns(fns, zip_fn, zip_json_path):\n",
        "    zf = zipfile.ZipFile(zip_fn)\n",
        "    j = json.loads(zf.read(zip_json_path).decode(\"utf8\"))\n",
        "    id_to_fn = {img[\"id\"]: img[\"file_name\"] for img in j[\"images\"]}\n",
        "    fn_to_caps = defaultdict(list)\n",
        "    for cap in j['annotations']:\n",
        "        fn_to_caps[id_to_fn[cap['image_id']]].append(cap['caption'])\n",
        "    fn_to_caps = dict(fn_to_caps)\n",
        "    return list(map(lambda x: fn_to_caps[x], fns))\n",
        "    \n",
        "train_captions = get_captions_for_fns(train_img_fns, \"captions_train-val2014.zip\", \n",
        "                                      \"annotations/captions_train2014.json\")\n",
        "\n",
        "val_captions = get_captions_for_fns(val_img_fns, \"captions_train-val2014.zip\", \n",
        "                                      \"annotations/captions_val2014.json\")\n",
        "\n",
        "# check shape\n",
        "print(len(train_img_fns), len(train_captions))\n",
        "print(len(val_img_fns), len(val_captions))"
      ],
      "execution_count": 14,
      "outputs": [
        {
          "output_type": "stream",
          "text": [
            "82783 82783\n",
            "40504 40504\n"
          ],
          "name": "stdout"
        }
      ]
    },
    {
      "cell_type": "code",
      "metadata": {
        "ExecuteTime": {
          "end_time": "2017-09-17T14:42:06.492565Z",
          "start_time": "2017-09-17T14:42:06.245458Z"
        },
        "id": "tUYpI6oGAfee",
        "outputId": "b27ea084-a47d-475e-d203-11ec73718f76",
        "colab": {
          "base_uri": "https://localhost:8080/",
          "height": 341
        }
      },
      "source": [
        "# look at training example (each has 5 captions)\n",
        "def show_trainig_example(train_img_fns, train_captions, example_idx=0):\n",
        "    \"\"\"\n",
        "    You can change example_idx and see different images\n",
        "    \"\"\"\n",
        "    zf = zipfile.ZipFile(\"train2014_sample.zip\")\n",
        "    captions_by_file = dict(zip(train_img_fns, train_captions))\n",
        "    all_files = set(train_img_fns)\n",
        "    found_files = list(filter(lambda x: x.filename.rsplit(\"/\")[-1] in all_files, zf.filelist))\n",
        "    example = found_files[example_idx]\n",
        "    img = utils.decode_image_from_buf(zf.read(example))\n",
        "    plt.imshow(utils.image_center_crop(img))\n",
        "    plt.title(\"\\n\".join(captions_by_file[example.filename.rsplit(\"/\")[-1]]))\n",
        "    plt.show()\n",
        "    \n",
        "show_trainig_example(train_img_fns, train_captions, example_idx=112)"
      ],
      "execution_count": 16,
      "outputs": [
        {
          "output_type": "display_data",
          "data": {
            "image/png": "[encoded data removed]",
            "text/plain": [
              "<Figure size 432x288 with 1 Axes>"
            ]
          },
          "metadata": {
            "tags": [],
            "needs_background": "light"
          }
        }
      ]
    },
    {
      "cell_type": "markdown",
      "metadata": {
        "id": "HRMisn_0Afee"
      },
      "source": [
        "# Prepare captions for training"
      ]
    },
    {
      "cell_type": "code",
      "metadata": {
        "ExecuteTime": {
          "end_time": "2017-09-17T14:43:40.637447Z",
          "start_time": "2017-09-17T14:43:40.633717Z"
        },
        "id": "rx4h3gcUAfef",
        "outputId": "34c884b7-35fc-4f64-eda0-4e4e05b6603d",
        "colab": {
          "base_uri": "https://localhost:8080/"
        }
      },
      "source": [
        "# preview captions data\n",
        "train_captions[:2]"
      ],
      "execution_count": 17,
      "outputs": [
        {
          "output_type": "execute_result",
          "data": {
            "text/plain": [
              "[['A long dirt road going through a forest.',\n",
              "  'A SCENE OF WATER AND A PATH WAY',\n",
              "  'A sandy path surrounded by trees leads to a beach.',\n",
              "  'Ocean view through a dirt road surrounded by a forested area. ',\n",
              "  'dirt path leading beneath barren trees to open plains'],\n",
              " ['A group of zebra standing next to each other.',\n",
              "  'This is an image of of zebras drinking',\n",
              "  'ZEBRAS AND BIRDS SHARING THE SAME WATERING HOLE',\n",
              "  'Zebras that are bent over and drinking water together.',\n",
              "  'a number of zebras drinking water near one another']]"
            ]
          },
          "metadata": {
            "tags": []
          },
          "execution_count": 17
        }
      ]
    },
    {
      "cell_type": "code",
      "metadata": {
        "ExecuteTime": {
          "end_time": "2017-09-17T14:43:40.932131Z",
          "start_time": "2017-09-17T14:43:40.891187Z"
        },
        "id": "gLS4XDz8Afef"
      },
      "source": [
        "# special tokens\n",
        "PAD = \"#PAD#\"\n",
        "UNK = \"#UNK#\"\n",
        "START = \"#START#\"\n",
        "END = \"#END#\"\n",
        "\n",
        "# split sentence into tokens (split into lowercased words)\n",
        "def split_sentence(sentence):\n",
        "    return list(filter(lambda x: len(x) > 0, re.split('\\W+', sentence.lower())))\n",
        "\n",
        "def generate_vocabulary(train_captions):\n",
        "    \"\"\"\n",
        "    Return {token: index} for all train tokens (words) that occur 5 times or more, \n",
        "        `index` should be from 0 to N, where N is a number of unique tokens in the resulting dictionary.\n",
        "    Use `split_sentence` function to split sentence into tokens.\n",
        "    Also, add PAD (for batch padding), UNK (unknown, out of vocabulary), \n",
        "        START (start of sentence) and END (end of sentence) tokens into the vocabulary.\n",
        "    \"\"\"\n",
        "    words_dic = {}\n",
        "    vocab = []\n",
        "    for caption in train_captions:\n",
        "      for sentence in caption:\n",
        "        \n",
        "        words = split_sentence(sentence)\n",
        "        \n",
        "        \n",
        "        for word in words:\n",
        "          if word in words_dic:\n",
        "            words_dic[word] += 1\n",
        "          else:\n",
        "            words_dic[word] = 1\n",
        "    print(\"TOTAL WORDS {}\".format(sum(words_dic.values())))\n",
        "    for (key,value) in words_dic.items():\n",
        "      if value>=5:\n",
        "        vocab.extend([key])\n",
        "    vocab.extend([PAD,UNK,START,END])\n",
        "    print(\"Total length of vocab {}\".format(len(vocab)))\n",
        "    print(vocab)\n",
        "    return {token: index for index, token in enumerate(sorted(vocab))}\n",
        "    \n",
        "def caption_tokens_to_indices(captions, vocab):\n",
        "    \"\"\"\n",
        "    `captions` argument is an array of arrays:\n",
        "    [\n",
        "        [\n",
        "            \"image1 caption1\",\n",
        "            \"image1 caption2\",\n",
        "            ...\n",
        "        ],\n",
        "        [\n",
        "            \"image2 caption1\",\n",
        "            \"image2 caption2\",\n",
        "            ...\n",
        "        ],\n",
        "        ...\n",
        "    ]\n",
        "    Use `split_sentence` function to split sentence into tokens.\n",
        "    Replace all tokens with vocabulary indices, use UNK for unknown words (out of vocabulary).\n",
        "    Add START and END tokens to start and end of each sentence respectively.\n",
        "    For the example above you should produce the following:\n",
        "    [\n",
        "        [\n",
        "            [vocab[START], vocab[\"image1\"], vocab[\"caption1\"], vocab[END]],\n",
        "            [vocab[START], vocab[\"image1\"], vocab[\"caption2\"], vocab[END]],\n",
        "            ...\n",
        "        ],\n",
        "        ...\n",
        "    ]\n",
        "    \"\"\"\n",
        "    res = [[[vocab[START]] + [vocab[word] if word in vocab else vocab[UNK] for word in split_sentence(sentence)] + [vocab[END]] for sentence in caption] for caption in captions]\n",
        "    return res"
      ],
      "execution_count": 121,
      "outputs": []
    },
    {
      "cell_type": "code",
      "metadata": {
        "ExecuteTime": {
          "end_time": "2017-09-17T14:43:44.824532Z",
          "start_time": "2017-09-17T14:43:41.264769Z"
        },
        "id": "eyRJ7Op6Afef",
        "outputId": "f8dd120e-5680-491e-e25a-0b54a5fbaed0",
        "colab": {
          "base_uri": "https://localhost:8080/"
        }
      },
      "source": [
        "# prepare vocabulary\n",
        "\n",
        "vocab = generate_vocabulary(train_captions)\n",
        "vocab_inverse = {idx: w for w, idx in vocab.items()}\n",
        "print(len(vocab))\n"
      ],
      "execution_count": 118,
      "outputs": [
        {
          "output_type": "stream",
          "text": [
            "TOTAL WORDS 4339916\n",
            "Total length of vocab 8769\n",
            "['a', 'long', 'dirt', 'road', 'going', 'through', 'forest', 'scene', 'of', 'water', 'and', 'path', 'way', 'sandy', 'surrounded', 'by', 'trees', 'leads', 'to', 'beach', 'ocean', 'view', 'forested', 'area', 'leading', 'beneath', 'barren', 'open', 'plains', 'group', 'zebra', 'standing', 'next', 'each', 'other', 'this', 'is', 'an', 'image', 'zebras', 'drinking', 'birds', 'sharing', 'the', 'same', 'watering', 'hole', 'that', 'are', 'bent', 'over', 'together', 'number', 'near', 'one', 'another', 'tabby', 'cat', 'sitting', 'in', 'front', 'car', 'brown', 'black', 'on', 'driveway', 'white', 'sleepy', 'looking', 'sits', 'parked', 'woman', 'walks', 'down', 'empty', 'street', 'large', 'clock', 'top', 'pole', 'sidewalk', 'city', 'with', 'mounted', 'there', 'tall', 'middle', 'crowd', 'people', 'flying', 'kites', 'lots', 'enjoying', 'their', 'time', 'hundreds', 'air', 'man', 'kite', 'crowded', 'for', 'flight', 'three', 'snowboarders', 'after', 'riding', 'snow', 'ramp', 'snowboards', 'jumping', 'snowy', 'hill', 'boarders', 'mid', 'jump', 'above', 'at', 'resort', 'couple', 'doing', 'jumps', 'off', 'laying', 'chair', 'while', 'holding', 'banana', 'closely', 'bean', 'bag', 'type', 'his', 'hand', 'fedora', 'dress', 'appear', 'be', 'stage', 'costume', 'fake', 'bench', 'like', 'it', 'was', 'chubby', 's', 'back', 'sleeping', 'striped', 'from', 'chest', 'up', 'its', 'paw', 'raised', 'eyes', 'lying', 'wooden', 'slatted', 'surface', 'gray', 'tiger', 'kids', 'brushing', 'teeth', 'restroom', 'happy', 'two', 'young', 'children', 'brush', 'bathroom', 'sink', 'someone', 'skiing', 'rapidly', 'steep', 'person', 'slope', 'skier', 'poles', 'downhill', 'wearing', 'helmet', 'goggles', 'pink', 'jacket', 'snowboarding', 'mountain', 'cell', 'phone', 'hands', 'girl', 'using', 'her', 'both', 'smart', 'bracelets', 'blue', 'shirt', 'shorts', 'purple', 'orange', 'peel', 'shores', 'object', 'nearby', 'we', 'sea', 'shore', 'cloudy', 'day', 'random', 'objects', 'cut', 'sand', 'picture', 'monk', 'outfit', 'gentleman', 'seated', 'train', 'station', 'bright', 'bald', 'yellow', 'robe', 'waiting', 'red', 'double', 'decker', 'bus', 'driving', 'blurry', 'shot', 'night', 'pedestrians', 'bikers', 'cyclist', 'vest', 'busy', 'hitting', 'tennis', 'ball', 'court', 'running', 'racket', 'hits', 'opponent', 'player', 'action', 'playing', 'bathtub', 'mirror', 'toilet', 'paper', 'roll', 'rest', 'room', 'very', 'nicely', 'decorated', 'fancy', 'hotel', 'bath', 'tub', 'elegant', 'pushing', 'canoes', 'into', 'seven', 'ready', 'ride', 'boats', 'bunch', 'body', 'watercraft', 'edge', 'gather', 'river', 'boat', 'kayak', 'racquet', 'swinging', 'completing', 'swing', 'doubles', 'sports', 'gear', 'game', 'nintendo', 'wii', 'controller', 'play', 'controllers', 'some', 'them', 'video', 'foldable', 'strong', 'breeze', 'sandals', 'under', 'umbrella', 'shoes', 'out', 'walking', 'cow', 'market', 'still', 'as', 'holds', 'lead', 'being', 'around', 'showroom', 'floor', 'leash', 'rides', 'skate', 'board', 'park', 'skateboard', 'skateboarding', 'watch', 'across', 'girls', 'stop', 'sign', 'intersection', 'side', 'covered', 'clearly', 'visible', 'all', 'us', 'see', 'corner', 'piles', 'photo', 'men', 'chairs', 'siting', 'house', 'rackets', 'vintage', 'four', 'residential', 'kitchen', 'heavily', 'modern', 'electric', 'stove', 'items', 'cabinets', 'beautiful', 'silver', 'wood', 'trimming', 'oven', 'light', 'couch', 'beds', 'balcony', 'motel', 'deep', 'cave', 'colors', 'small', 'tree', 'bedroom', 'bed', 'coach', 'potted', 'plant', 'window', 'upside', 'fresh', 'single', 'eat', 'soccer', 'players', 'towards', 'kicking', 'green', 'field', 'teen', 'boys', 'go', 'against', 'tiny', 'bowl', 'filed', 'fruit', 'penny', 'full', 'miniature', 'bow', 'fruits', 'dogs', 'truck', 'flatbed', 'different', 'pick', 'exotic', 'meal', 'served', 'intricate', 'place', 'setting', 'made', 'leaves', 'food', 'plate', 'table', 'meat', 'stick', 'eggs', 'broccoli', 'chopsticks', 'dinner', 'features', 'hard', 'boiled', 'leaf', 'swim', 'suit', 'carrying', 'paddle', 'surf', 'head', 'shirtless', 'surfboard', 'carries', 'eating', 'pizza', 'plates', 'restaurant', 'slices', 'others', 'smiling', 'dining', 'adults', 'flowering', 'petals', 'sun', 'ripe', 'bananas', 'hanging', 'close', 'resembles', 'many', 'growing', 'several', 'motorcycle', 'curvy', 'race', 'track', 'motor', 'bike', 'racer', 'has', 'fallen', 'closed', 'sideways', 'destroyed', 'fridge', 'run', 'could', 'use', 'work', 'refrigerator', 'opened', 'trash', 'old', 'dilapidated', 'messy', 'containing', 'refrigerators', 'broken', 'tile', 'healthy', 'lunchbox', 'sandwich', 'vegetables', 'lunch', 'sandwhich', 'well', 'veggies', 'plastic', 'tray', 'smaller', 'trays', 'filled', 'trey', 'foods', 'layed', 'containers', 'fill', 'box', 'teddy', 'bear', 'behind', 'blankets', 'rests', 'rumpled', 'curled', 'huge', 'right', 'stuff', 'pile', 'clothes', 'building', 'pulled', 'terminal', 'unloaded', 'luggage', 'storage', 'compartment', 'tour', 'colorful', 'passenger', 'stopped', 'door', 'older', 'laptop', 'computer', 'library', 'or', 'bookstore', 'sat', 'working', 'travelers', 'line', 'baggage', 'claim', 'row', 'slot', 'machines', 'airport', 'airplane', 'passengers', 'bags', 'jars', 'counter', 'canning', 'sauce', 'pot', 'putting', 'inside', 'keep', 'prepares', 'glass', 'liquid', 'sliced', 'pan', 'spatula', 'crusty', 'looks', 'good', 'enough', 'mushrooms', 'pepperoni', 'metal', 'missing', 'slice', 'can', 'buss', 'rear', 'shows', 'reflection', 'school', 'seen', 'reflected', 'own', 'batter', 'taking', 'incoming', 'pitch', 'baseball', 'swings', 'bat', 'about', 'hit', 'pitched', 'umpire', 'catcher', 'stand', 'him', 'watches', 'display', 'mall', 'bears', 'lady', 'touching', 'big', 'carousel', 'posing', 'living', 'pillows', 'desk', 'livingroom', 'sofa', 'keyboard', 'decorations', 'home', 'topped', 'vegetable', 'sit', 'leafy', 'greens', 'pieces', 'blanket', 'stretching', 'nap', 'relaxing', 'office', 'something', 'mouth', 'doughnut', 'leaning', 'break', 'feet', 'eats', 'wild', 'ones', 'grass', 'flock', 'turkeys', 'geese', 'broad', 'daylight', 'suits', 'ties', 'pose', 'camera', 'neck', 'guys', 'dressed', 'closeup', 'cheese', 'chili', 'pie', 'melted', 'cheddar', 'little', 'crawling', 'piece', 'climbing', 'suitcase', 'toddler', 'found', 'self', 'trapped', 'case', 'mixture', 'piled', 'assortment', 'types', 'bread', 'beans', 'carrots', 'cauliflower', 'south', 'practices', 'personalized', 'uniform', 'delivering', 'during', 'underwear', 'boxers', 'trick', 'snowboard', 'snowboarder', 'making', 'ground', 'boarder', 'performing', 'mountainous', 'bird', 'stone', 'amongst', 'greenery', 'perched', 'ceramic', 'planter', 'aerial', 'frisbee', 'arms', 'disc', 'grassy', 'throwing', 'employees', 'controlling', 'traffic', 'guards', 'buses', 'cars', 'crossing', 'directing', 'workers', 'direct', 'congested', 'outside', 'stands', 'log', 'enclosure', 'logs', 'sweater', 'games', 'women', 'remotes', 'pickle', 'bite', 'taken', 'halves', 'pastrami', 'rye', 'pinkish', 'rose', 'background', 'grapefruit', 'resting', 'flower', 'flowers', 'not', 'yet', 'but', 'here', 'natural', 'environment', 'herd', 'grazing', 'roadside', 'six', 'child', 'mess', 'books', 'he', 'kid', 'runs', 'past', 'scattered', 'boy', 'cart', 'jeep', 'oriental', 'automobile', 'parking', 'lot', 'trailer', 'multicolored', 'graffiti', 'high', 'sky', 'dog', 'lake', 'cloud', 'rice', 'mixed', 'kind', 'meatloaf', 'sugar', 'reaches', 'female', 'actively', 'returning', 'serve', 'lunges', 'flush', 'handle', 'switch', 'gold', 'public', 'preparing', 'onto', 'skateboarder', 'skatepark', 'male', 'check', 'ladies', 'dock', 'admiring', 'along', 'seaside', 'walk', 'serves', 'interesting', 'choice', 'wines', 'having', 'framed', 'reflecting', 'staring', 'draped', 'fashioned', 'shown', 'cloth', 'toward', 'foreground', 'drawing', 'boating', 'variety', 'docked', 'harbor', 'backdrop', 'skyline', 'soup', 'colorfully', 'stew', 'dish', 'root', 'ham', 'mat', 'pair', 'scissors', 'pin', 'cushion', 'sewing', 'implements', 'include', 'pins', 'nose', 'photographers', 'pictures', 'film', 'plane', 'photographing', 'skis', 'skiers', 'these', 'before', 'ski', 'bottom', 'low', 'bunny', 'pasture', 'sheep', 'fence', 'cattle', 'region', 'fenced', 'animals', 'elephant', 'plants', 'jungle', 'alongside', 'walkway', 'smiles', 'happily', 'doorway', 'half', 'boarding', 'batch', 'shower', 'curtain', 'focus', 'cracked', 'rocks', 'flowing', 'wilderness', 'alone', 'grizzly', 'rock', 'mud', 'lone', 'watching', 'brick', 'abandoned', 'paved', 'pier', 'moored', 'tethered', 'grassland', 'tied', 'makeshift', 'various', 'buildings', 'floating', 'town', 'gathering', 'show', 'cows', 'livestock', 'roofed', 'hut', 'bulls', 'skinny', 'thatched', 'huts', 'pulling', 'shoe', 'round', 'grips', 'rack', 'split', 'images', 'beside', 'hungry', 'donut', 'partially', 'eaten', 'triple', 'speed', 'splashing', 'sailing', 'sleek', 'shaggy', 'haired', 'shaved', 'baby', 'adult', 'bushes', 'tee', 'post', 'waring', 'cross', 'country', 'woods', 'traveling', 'wooded', 'dry', 'distant', 'castle', 'offspring', 'elephants', 'heads', 'gathered', 'hat', 'cowboy', 'cool', 'furry', 'just', 'wading', 'pants', 'incline', 'scrub', 'spoon', 'dessert', 'if', 'really', 'cute', 'awake', 'cook', 'cake', 'navy', 'personnel', 'helping', 'decorate', 'chef', 'dad', 'baking', 'talking', 'speaking', 'intently', 'cement', 'block', 'stuffed', 'toy', 'seat', 'outdoor', 'ottoman', 'coming', 'railroad', 'tracks', 'rolls', 'goes', 'sunny', 'giraffe', 'giraffes', 'shrubs', 'pretty', 'wide', 'travelling', 'trailing', 'daytime', 'garbage', 'shelving', 'range', 'shelves', 'reflect', 'stalls', 'opposite', 'wall', 'mirrors', 'soap', 'dispensers', 'style', 'stall', 'sail', 'waters', 'float', 'sailboats', 'rather', 'cluttered', 'floors', 'furniture', 'walls', 'untidy', 'makes', 'non', 'matching', 'floored', 'few', 'streets', 'roadway', 'towing', 'passing', 'ice', 'cream', 'bicycle', 'father', 'biking', 'son', 'tow', 'where', '20', 'away', 'vehicles', 'end', 'crouch', 'umbrellas', 'array', 'withe', 'heading', 'written', 'below', 'bottle', 'yarn', 'outdoors', 'directly', 'poses', 'coffee', 'lamp', 'bookshelf', 'picnic', 'basket', 'boxes', 'love', 'painted', 'parts', 'showing', 'thrown', 'pitcher', 'progress', 'stadium', 'jet', 'runway', 'landing', 'extended', 'tarmac', 'urban', 'taxiing', 'rocky', 'seagulls', 'midst', 'fishing', 'woodland', 'stream', 'berries', 'strawberries', 'apples', 'oranges', 'popular', 'snacks', '2', 'bowls', 'shiny', 'lined', 'multiple', 'colored', 'brightly', 'patriotic', 'animal', 'keeper', 'checkered', 'taxi', 'asian', 'airliner', 'face', 'frisbe', 'photograph', 'who', 'works', 'apron', 'shop', 'sinks', 'clean', 'pictured', 'delicious', 'devil', 'icing', 'chocolate', 'center', 'frosting', 'blurred', 'figures', 'rain', 'bridge', 'heavy', 'load', 'vehicle', 'dump', 'trunk', 'passes', 'things', 'towels', 'lights', 'compact', 'probably', 'try', 'grab', 'fighting', 'houses', 'freshly', 'plowed', 'rural', 'commuter', 'farm', 'string', 'attached', 'she', 'flies', 'herself', 'tie', 'glasses', 'stripe', 'takes', 'himself', 'store', 'indian', 'persons', 'flat', 'screen', 'tv', 'robes', 'television', 'dancing', 'lifts', 'leg', 'match', 'blade', 'cutting', 'sharpening', 'knife', 'toothpick', 'hold', 'sharpener', 'crowed', 'process', 'meter', 'church', 'been', 'order', 'cups', 'drinks', 'patio', 'mounting', 'places', 'rubber', 'boot', 'upon', 'foot', 'tag', 'tagged', 'midair', 'helmeted', 'motorbike', 'olives', 'grabbing', 'homemade', 'done', 'beef', 'van', 'shabby', 'horse', 'paddock', 'ledge', 'mountains', 'stret', 'wet', 'mostly', 'booth', 'suv', 'dropped', 'beer', 'vase', 'drooping', 'clear', 'footed', 'pale', 'dug', 'diamond', 'throws', 'california', 'family', 'plays', 'mug', 'cup', 'mugs', 'faces', 'designed', 'frosted', 'windows', 'construction', 'vanity', 'supplies', 'jeans', 'trying', 'catch', 'grey', 'cardigan', 'throw', 'taco', 'chips', 'mexican', 'fork', 'tacos', 'telephone', 'book', 'apple', 'between', 'windowsill', 'bucket', 'shelf', 't', 'v', 'remote', 'giant', 'massive', 'tower', 'placed', 'policeman', 'police', 'officer', 'goers', 'drives', 'cop', 'getting', 'waves', 'kneeling', 'pathway', 'tables', 'beverages', 'straws', 'sheepdog', 'goats', 'yard', 'zoo', 'entry', 'pen', 'opening', 'reclining', 'recliner', 'arm', 'christmas', 'ornament', 'leather', 'magazine', 'fedex', 'wheels', 'express', 'delivery', 'takeoff', 'moving', 'strip', 'fluffy', 'relax', 'processor', 'pastry', 'blender', 'surfboards', 'fun', 'surfing', 'entering', 'wetsuits', 'wave', 'surfers', 'instrument', 'chicken', 'laptops', 'regular', 'desktop', 'computers', 'desks', 'have', 'prince', 'held', 'hello', 'kitty', 'designs', 'get', 'lush', 'photographed', 'fall', 'pizzas', 'prominent', 'mozzarella', 'basil', 'spots', 'tomato', 'sour', 'hay', 'fair', 'falling', 'asleep', 'sexy', 'attractive', 'tights', 'lap', 'lies', 'jetliner', 'airline', 'jumbo', 'gets', 'take', 'parent', 'mother', 'following', 'followed', 'cellphone', 'windshield', 'consisting', 'sandwiches', 'salad', 'potatoes', 'square', 'juice', 'entree', 'professional', 'left', 'wears', 'straw', 'scarf', 'doll', 'stems', 'bannanas', 'figure', 'posed', 'among', 'baskets', 'upward', 'fat', 'towel', 'performs', 'flip', 'kick', 'tiles', 'tiled', 'backsplash', 'marine', 'variations', 'washing', 'giving', 'sailboat', 'wit', 'bending', 'move', 'strike', 'gerbil', 'bottles', 'rodent', 'hamster', 'condiments', 'chews', 'jar', 'pepper', 'shaker', 'grandfather', 'paintings', 'gourmet', 'sort', 'wafer', 'carefully', 'arranged', 'lesson', 'learning', 'how', 'facility', 'plow', 'headed', 'navigates', 'now', 'lets', 'sprayed', 'soaked', 'identically', 'phones', 'smoking', 'frisby', 'pointing', 'catching', 'jean', 'fleet', 'ships', 'flags', 'vessels', 'anchored', 'freezer', 'garage', 'hangar', 'hanger', 'guy', 'cats', 'glowing', 'serving', 'gravy', 'utensils', 'scooter', 'moped', 'advertised', 'sale', 'hot', 'bun', 'wrapper', 'hotdog', 'package', 'organic', 'gloves', 'set', 'neat', 'tidy', 'cubicle', 'papers', 'photos', 'crows', 'village', 'turquoise', 'ceiling', 'surrounding', 'plank', 'stocking', 'striking', 'base', 'toppings', 'cutter', 'sided', 'carts', 'deck', 'transit', 'sliver', 'seats', 'countryside', 'tuck', 'rocking', 'terrain', 'winter', 'landscape', 'skies', 'skii', 'wine', 'bar', 'uses', 'entire', 'lean', 'fields', 'propeller', 'waits', 'shirts', 'gloomy', 'evening', 'overview', 'plain', 'fully', 'slopes', 'soaring', 'thru', 'meats', 'cheeses', 'dishes', 'silverware', 'reading', 'cafe', 'pastries', 'doughnuts', 'pans', 'laid', 'donuts', 'cookie', 'bars', 'cookies', 'ump', 'make', 'call', 'spectators', 'cameras', 'london', 'towers', 'fire', 'hydrant', 'signs', 'bush', 'antique', 'parade', 'military', 'garb', 'pickup', 'american', 'depicting', 'engaged', 'onlookers', 'sweatshirt', 'cakes', 'displayed', 'displays', 'whimsical', 'breakfast', 'croissant', 'cinnamon', 'selling', 'bunches', 'selecting', 'hoodie', 'marketplace', 'bordered', 'itself', 'what', 'will', 'opposing', 'team', 'pitching', 'mound', 'audience', 'motion', 'bringing', 'meet', 'oncoming', 'sunshine', 'closes', 'fur', 'mouse', 'lays', 'marks', 'ram', 'lamb', 'collection', 'crates', 'grouped', 'grouping', 'wakeboard', 'boards', 'wetsuit', 'needed', 'packaging', 'product', 'ipod', 'used', 'reigns', 'stable', 'tending', 'caring', 'horses', 'surfer', 'urinal', 'separated', 'partition', 'dole', 'bundle', 'sticker', 'no', 'page', 'describe', 'ink', 'upscale', 'decorative', 'walled', 'dimly', 'lit', 'fixtures', 'business', 'smartphone', 'operating', 'cellphones', 'pane', 'frame', 'hunches', 'wire', 'caged', 'habitat', 'captivity', 'referee', 'uniformed', 'teams', 'fast', 'they', 'bib', 'cereal', 'fencing', 'fryer', 'machine', 'dropping', 'oil', 'rows', 'frying', 'cooked', 'pool', 'grease', 'pillow', 'lamps', 'sides', 'wedged', 'arrive', 'crust', 'busted', 'signal', 'dangling', 'cleaning', 'covering', 'remodeled', 'converse', 'laces', 'level', 'sneakers', 'pavement', 'fly', 'waterside', 'butts', 'facing', 'dairy', 'tone', 'milking', 'barn', 'feeding', 'pipe', 'concrete', 'rink', 'attempting', 'themselves', 'elderly', 'friends', 'sharp', 'beaks', 'pond', 'finding', 'shallow', 'minimal', 'themed', 'theme', 'breaking', 'puts', 'container', 'traveler', 'sliding', 'first', 'attempts', 'wicker', 'matches', 'bold', 'spinach', 'tofu', 'stirred', 'croutons', 'chop', 'sticks', 'prepared', 'sausages', 'alleyway', 'alley', 'cover', 'numbers', 'solar', 'panel', 'listed', 'routes', 'company', 'logo', 'pad', 'slim', 'valley', 'system', 'collar', 'paws', 'dark', 'raquet', 'positions', 'backhand', 'drawn', 'carriage', 'buggy', 'wagon', 'land', 'slop', 'altered', 'device', 'stylized', 'ha', 'cap', 'bedding', 'mom', 'daughter', 'does', 'feel', 'lay', 'birdcage', 'cage', 'decor', 'odd', 'shaped', 'liner', 'commercial', 'loaded', 'graffitied', 'amounts', 'urinals', 'writing', 'catches', 'approach', 'courtyard', 'booths', 'tents', 'rusted', 'decrepit', 'radiator', 'tattered', 'hangings', 'competitor', 'tucks', 'faster', 'sprinkled', 'napkin', 'standng', 'leans', 'boxed', 'control', 'strap', 'wrist', 'unopened', 'console', 'graphic', 'perform', 'shooting', 'thorough', 'joined', 'cuddling', 'underneath', 'powdered', 'lava', 'n', 'tea', 'pine', 'oak', 'sloped', 'general', 'appliances', 'placing', 'judges', 'raising', 'delicate', 'princess', 'dishwasher', 'emptying', 'loading', 'preparation', 'bearded', 'sunset', 'silhouetted', 'sets', 'roasting', 'checking', 'thermometer', 'temperature', 'piano', 'carpet', 'sparse', 'rug', 'sanctuary', 'reach', 'branch', 'neon', 'cones', 'safety', 'obstacle', 'course', 'skating', 'shrub', 'unripe', 'coconuts', 'palm', 'short', 'poster', 'mobile', 'ad', 'displaying', 'panties', 'mannequin', 'skirt', 'balls', 'everywhere', 'lacy', 'lace', 'lingerie', 'words', 'anyone', 'glazed', 'kissing', 'cheek', 'pretends', 'kiss', 'smile', 'picket', 'garden', 'groom', 'stares', 'bride', 'abundant', 'beard', 'wedding', 'skiiing', 'waterway', 'nighttime', 'enjoyment', 'houseboat', 'curb', 'assorted', 'flavors', 'breaks', 'picking', 'flavored', 'goblets', 'liquids', 'i', 'foundation', 'lawn', 'limes', 'naked', 'five', 'vases', 'illustration', 'branches', 'artistic', 'arrangement', 'urns', 'stalks', 'beanie', 'hipster', 'plaza', 'protesters', 'occupy', 'movement', 'protest', 'banner', 'saying', 'says', 'locomotive', 'rounding', 'curve', 'stunt', 'skater', 'rail', 'dismantled', 'doors', 'strewn', 'dirty', 'damaged', 'recently', 'cupboards', 'platform', 'amtrak', 'purse', 'which', 'approaching', 'rusty', 'direction', 'rusting', 'tank', 'ship', 'distance', 'horizon', 'fashion', 'drawers', 'charming', 'includes', 'grinder', 'cabinet', 'return', 'spaniel', 'deliver', 'roles', 'potato', 'thick', 'sticking', 'cabin', 'cruiser', 'dual', 'stoves', 'contemporary', 'patterns', 'styles', 'stylish', 'uhaul', 'trucks', 'u', 'haul', 'waterfall', 'backpack', 'pack', 'porch', 'metallic', 'unusual', 'blouse', 'bronze', 'tye', 'worn', 'nice', 'necktie', 'knot', 'perfect', 'pony', 'greeting', 'puppy', 'mesh', 'visiting', 'swung', 'seagull', 'atop', 'grazes', 'medium', 'sized', 'finger', 'band', 'backpacks', 'vacation', 'stuck', 'porcelain', 'countertop', 'simple', 'desert', 'scrolling', 'powered', 'carpeted', 'size', 'stripes', 'travels', 'note', 'organization', 'drawer', 'unit', 'alarm', 'organized', 'pencils', 'ring', 'built', 'larger', 'crest', 'were', 'lifting', 'hula', 'hoop', 'legs', 'highway', 'silly', 'gate', 'peek', 'golden', 'retriever', 'gazing', 'seemingly', 'podium', 'conference', 'speaks', 'speech', 'european', 'blocking', 'subway', 'position', 'stops', 'stair', 'stairs', 'parasails', 'hover', 'look', 'fabric', 'strings', 'drift', 'curved', 'parachutes', 'deployed', 'hiding', 'hills', 'hilly', 'mounds', 'equipment', 'racquets', 'benches', 'railing', 'overlooking', 'cobblestone', 'overlook', 'do', 'panorama', 'african', 'patterned', 'material', 'printed', 'strange', 'flowered', 'kettle', 'saucer', 'teapot', 'wants', 'join', 'message', 'bit', 'often', 'slippery', 'always', 'you', 'stars', 'sausage', 'leftover', 'chihuahua', 'sunlight', 'flag', 'engine', 'blows', 'steam', 'smoke', 'barrels', 'lie', 'scenes', 'sushi', 'platters', 'macaroni', 'roman', 'numerals', 'numeral', 'semi', 'hose', 'connected', 'cannon', 'statue', 'parasol', 'hugging', 'corn', 'cob', 'grilled', 'lettuce', 'mashed', 'hair', 'tilting', 'barely', 'font', 'blond', 'blonde', 'protective', 'fisheye', 'lens', 'tricks', 'rim', 'crater', 'swimming', 'appears', 'freight', 'pointed', 'roof', 'elf', 'thought', 'bubble', 'added', 'funny', 'thinks', 'downward', 'main', 'masks', 'covers', 'reflects', 'products', 'st', 'thomas', 'contains', 'information', 'boxing', 'activity', 'situated', 'sill', 'curtains', 'cycles', 'socks', 'curious', 'digging', 'lounging', 'digs', 'slightly', 'smashed', 'far', 'dresses', 'apartment', 'veggie', 'straight', 'ahead', 'boogie', 'silhouette', 'comes', 'dusk', 'knees', 'packs', 'kitten', 'enclosed', 'reaching', 'softball', 'glove', 'lands', 'cooking', 'filling', 'seasoning', 'clay', 'only', 'stickers', 'styled', 'selfie', 'blow', 'dries', 'pens', 'markers', 'tools', 'ther', 'great', 'pass', 'more', 'trekking', 'college', 'campus', 'streetlight', 'stoplight', 'shopping', 'text', 'step', 'scanner', 'code', 'posted', 'sanding', 'rowboat', 'misty', 'patch', 'bluebird', 'uncooked', 'eyed', 'peas', 'wrapped', 'sheet', 'enter', 'scott', 'arrow', 'hangs', 'beat', 'isolated', 'charter', 'shield', 'swords', 'lions', 'medieval', 'racing', 'quiet', 'wait', 'barriers', 'cans', 'toothbrushes', 'holder', 'tooth', 'brushes', 'whole', 'lid', 'accompanied', 'cardboard', 'card', 'skateboards', 'laughing', 'skateboarders', 'chillin', 'shred', 'gnar', 'beak', 'stork', 'heated', 'conversation', 'carrier', 'help', 'conveyor', 'belt', 'spraying', 'backward', 'policemen', 'officers', 'horseback', 'ben', 'towering', 'extremely', 'net', 'advertisement', 'color', 'played', 'rared', 'notebook', 'monitor', 'iphone', 'charger', 'featuring', 'nick', 'knacks', 'exhibit', 'within', 'ankle', 'menacingly', 'ofa', 'packed', 'new', 'sport', 'skiiers', 'uphill', 'taxing', 'neatly', 'shine', 'turns', 'rising', 'artwork', 'peeking', 'murals', 'trunks', 'humorous', 'intended', 'users', 'peeping', 'lips', 'dressing', 'suspenders', 'kinds', 'brussel', 'sprouts', 'steak', 'collared', 'coal', 'fired', 'teenaged', 'grinding', 'cabinetry', 'counters', 'print', 'accents', 'design', 'shorn', 'graze', 'dragon', 'approaches', 'bare', 'treetops', 'grove', 'tops', 'partly', 'handful', 'thin', 'sands', 'chopped', 'pots', 'staged', 'pop', 'drink', 'crossed', 'cellar', 'tourists', 'underground', 'actions', 'winery', 'couches', 'fireplace', 'quote', 'poem', 'witha', 'trim', 'life', 'content', 'unmade', 'hound', 'hall', 'hallway', 'cycle', 'sum', 'festival', 'biker', 'event', 'newspapers', 'newspaper', 'electronics', 'monster', 'crushed', 'analog', 'cuckoo', 'nestled', 'clocks', 'coo', 'master', 'granite', 'devices', 'monitors', 'keyboards', 'lab', 'cords', 'tasty', 'icecream', 'seems', 'treats', 'prop', 'bikini', 'toast', 'including', 'bacon', 'buttery', 'birthday', 'teaches', 'illuminates', 'turned', 'fuzzy', 'shaving', 'shaves', 'camouflage', 'fighter', 'hovering', 'clouds', 'friend', 'courts', 'marker', 'forward', 'tightly', 'microwave', 'stainless', 'steel', 'furnishings', 'artificial', 'snowmobile', 'teenager', 'inspects', 'reads', 'my', 'space', 'myspace', 'vandalized', 'breast', 'mans', 'mean', 'circle', 'eye', 'lighting', 'crate', 'discarded', 'soda', 'beverage', 'wax', 'museum', 'undone', 'staircase', 'service', 'lower', '4', 'napkins', 'asphalt', 'slab', 'depot', 'cleared', 'backs', 'costumed', 'yacht', 'cruise', 'infant', 'stacked', 'portable', 'dvd', 'disks', 'dvds', 'materials', 'except', 'contact', 'upright', 'pallets', 'produce', 'tier', 'napping', 'scratching', 'steps', 'don', 'exciting', 'canopy', 'plush', 'headboard', 'silk', 'ornate', 'sheets', 'feeds', 'peers', 'bigger', 'suckling', 'milk', 'narrow', 'trestle', 'either', 'bikes', 'bicycles', 'kimono', 'geisha', 'strolls', 'mercedes', 'huddled', 'heard', 'pork', 'pasta', 'roasted', 'noodles', 'pajamas', 'stairway', 'sleep', 'spotlight', 'port', 'airlines', 'luggages', 'awning', 'automobiles', 'appointed', 'ample', 'seating', 'renovated', 'earth', 'tones', 'island', 'stools', 'sporting', 'petting', 'pet', 'pets', 'model', 'practicing', 'spiked', 'monument', 'locked', 'gas', 'motorcycles', 'pumps', 'pumping', 'tanks', 'art', 'bomber', 'transportation', 'rolling', 'zooms', 'bleak', 'overcast', 'powder', 'angels', 'skiis', 'trail', 'flavor', 'panes', 'teenage', 'balancing', 'meeting', 'conversing', 'groups', 'handbag', 'personal', 'care', 'separate', 'free', 'mini', 'shampoo', 'dryer', 'drier', 'creepy', 'peppers', 'tomatoes', 'pea', 'pods', 'cucumbers', 'blueberries', 'etc', 'loveseat', 'rustic', 'classic', 'maroon', 'surboard', 'interstate', 'driver', 'rearview', 'somewhere', 'fish', 'doily', 'multi', 'awaiting', 'peeling', 'muddy', 'puddle', 'give', 'kiteboard', 'airborne', 'wind', 'para', 'point', 'dome', 'whose', 'stabbing', 'sad', 'knows', 'frown', 'decals', 'rails', 'adjacent', 'mason', 'cyclists', 'bicyclists', 'neighborhood', 'layers', 'suburban', 'hedge', 'wrecked', 'worker', 'crush', 'accident', 'towed', 'hauls', 'goat', 'weathered', 'steeple', 'located', 'otherwise', 'ordinary', 'chimney', 'ornamental', 'weather', 'vane', 'viewer', 'needs', 'put', 'ponies', 'chickens', 'composite', 'numerous', 'pulls', 'amount', 'advertising', 'burgundy', 'guiding', 'directs', 'steering', 'hurdle', 'me', 'dangerous', 'skying', 'unpacked', 'dead', 'smothered', 'mustard', 'onions', 'photoshop', 'world', 'human', 'item', 'trails', 'tress', 'forefront', 'beams', 'shining', 'cupboard', 'instead', 'someones', 'kitchenette', 'burning', 'pit', 'flames', 'primitive', 'blazing', 'flame', 'lion', 'waving', 'indoors', 'ear', 'headphones', 'buds', 'ears', 'fascinating', 'attaching', 'fireman', 'fighters', 'hoses', 'shapes', 'viewing', 'enjoy', 'hedges', 'perch', 'starting', 'bloom', 'posts', 'butterfly', 'thread', 'suspended', 'rains', 'lowered', 'tissue', 'toothbrush', 'blur', 'interior', 'carpeting', 'complete', 'herds', 'viewed', 'seeing', 'twisted', 'cooling', 'oatmeal', 'baked', 'eight', 'parchment', 'apart', 'divided', 'rectangular', 'comforter', 'detailed', 'linens', 'soft', 'adorns', 'perfectly', 'junk', 'tent', 'batters', 'bushels', 'emblem', 'symbol', 'want', 'mowed', 'based', 'carry', 'populated', 'farmer', 'scenic', 'laden', 'goods', 'whiskey', 'alcohol', 'alcoholic', 'thing', 'pay', 'payphone', 'know', 'overhead', 'depicts', 'surgery', 'surgical', 'procedure', 'performed', 'subject', 'newly', 'married', 'donkeys', 'riders', 'mule', 'ads', 'motorcyclists', 'utility', 'rider', 'indoor', 'arena', 'chrome', 'pared', 'tires', 'name', 'crown', 'angry', 'wandering', 'sniffing', 'sampling', 'females', 'caught', 'backyard', 'labeled', 'elaborate', 'stack', 'pattern', 'typical', 'mlb', 'barry', 'bonds', 'hitter', 'goal', 'stroller', 'ma', 'ducks', 'milling', 'shoreline', 'border', 'herding', 'bleacher', 'competition', 'chain', 'climbs', 'ascent', 'ascending', 'pilot', 'stumps', 'basin', 'commode', 'filing', 'file', 'contents', 'candy', 'came', 'forks', 'spoons', 'bamboo', 'duck', 'sculptures', 'candlesticks', 'railway', 'read', 'instructions', 'hurt', 'warning', 'murky', 'riverbank', 'pancakes', 'hash', 'browns', 'syrup', 'italian', 'shrubbery', 'yelling', 'paired', 'parka', 'meadow', 'factory', 'handling', 'assembly', 'grates', 'nightstand', 'closet', 'pushed', 'windsurfer', 'kiteboarding', 'parasailing', 'magnificent', 'classroom', 'mote', 'hillside', 'tends', 'bridle', 'dresser', 'folded', 'suitcases', 'cases', 'prices', 'bitten', 'ingredients', 'radio', 'awaits', 'batting', 'stance', 'paint', 'arts', 'crafts', 'featured', 'architectural', 'elements', 'lounges', 'lazing', 'marina', 'appliance', 'may', 'rope', 'special', 'shade', 'warm', 'clothing', 'inner', 'workings', 'lines', 'wired', 'fronted', 'mechanical', 'scissor', 'craft', 'project', 'customers', 'dividers', 'fridges', 'tourist', 'attendant', 'bakers', 'bins', 'varieties', 'skates', 'sculpture', 'cutout', 'bunk', 'loft', 'sparsely', 'dorm', 'flannel', 'speak', 'races', 'turn', 'racetrack', 'turning', 'lufthansa', 'trolley', 'driven', 'marble', 'countertops', 'real', 'estate', 'spacious', 'surfaces', 'meals', 'shed', 'shack', 'bull', 'crop', 'grows', 'hairdryer', 'sittin', 'sock', '6', 'festive', 'embedded', 'architecture', 'ornately', 'virgin', 'attention', 'owner', 'polka', 'dot', 'frontier', 'frolicking', 'valentine', 'heart', 'valentines', 'foil', 'chasing', 'barking', 'littered', 'faded', 'installed', 'mantle', 'faced', 'whit', 'clydesdale', 'sprinkles', 'fudge', 'rainbow', 'glaze', 'disk', 'jumped', 'stripped', 'kale', 'radishes', 'compete', 'ultimate', 'scale', 'measuring', 'markings', 'height', 'foggy', 'stained', 'steamed', 'mirrored', 'surprised', 'bookshelves', 'english', 'fed', 'stretch', 'necks', 'bulidings', 'arch', 'falls', 'parachute', 'diving', 'jersey', 'brocolli', 'florets', 'stovetop', 'dying', 'wilted', 'expensive', 'docking', 'boots', 'bell', 'horns', 'horned', 'examining', 'toasting', 'win', 'pitchers', 'canisters', 'plenty', 'wheeled', 'guard', 'glare', 'vegetation', 'wireless', 'iced', 'pasty', 'panda', 'positioned', 'tail', 'shaking', 'aircraft', 'bushy', 'signaling', 'twilight', 'headlights', 'rundown', 'managing', 'ovens', 'age', 'machinery', 'testing', 'controls', 'typing', 'hp', 'africa', 'affectionately', 'balloon', 'bowtie', 'sheering', 'waist', 'butter', 'melting', 'oval', 'platter', 'stepped', 'tournament', 'transported', 'ferry', 'establishment', 'carraige', 'early', '20th', 'century', 'bathrobe', 'reclines', 'exiting', 'checks', 'electronic', 'handheld', 'pub', 'inthe', 'too', 'party', 'shoulder', 'planes', 'beyond', 'barb', 'queen', 'victoria', 'candles', 'blowing', 'fireworks', 'projected', 'slender', 'grasses', 'length', 'gravel', 'stony', 'selfies', 'smartphones', 'seem', 'any', 'designated', 'warns', 'strips', 'directions', 'caution', 'site', 'drive', 'slushy', 'tabletop', 'chatting', 'dreads', 'laughs', 'atrium', 'roped', 'vaulted', 'security', 'ropes', 'advertises', 'battle', 'quarters', 'flash', 'leap', 'pull', 'successful', 'bicyclist', 'propped', 'snuggling', 'egg', 'icy', 'coat', 'sizes', 'labels', 'tattooed', 'chains', 'bouquet', 'wildflowers', 'toilets', 'mingle', 'sophisticated', 'pigeon', 'barrier', 'sectioned', 'rhinoceros', 'rhinos', 'grooming', 'parlor', 'trains', 'japan', 'protected', 'student', 'individual', 'rainy', 'teens', 'sees', 'had', 'lowers', 'mitt', 'hovers', 'squats', 'catchers', 'link', 'pelicans', 'washed', 'submerged', 'exit', 'sealed', 'klm', 'cast', 'interested', 'potential', 'prey', 'shape', 'smiley', 'already', 'resemble', 'summer', 'lambs', 'maybe', 'panoramic', 'pouring', 'crane', 'squash', 'multitude', 'notes', 'magnets', 'tan', 'plaid', 'bottoms', 'spot', 'asking', 'say', 'certain', 'aqua', 'language', 'tram', 'costumes', 'cards', 'county', 'live', 'gazelle', 'period', 'curly', 'novel', 'conditioner', 'floral', 'drapes', 'bedspread', 'lavatory', 'splash', 'weeds', 'patty', 'flooded', 'offering', 'samples', 'offers', 'vote', 'honk', 'angled', 'confined', 'bends', 'descends', 'swiftly', 'painting', 'levels', 'chested', 'wipes', 'wheelchair', 'surfboarders', 'pigeons', 'sil', 'pressing', 'abstract', 'charging', 'stool', 'pedestal', 'dollop', 'pat', 'scoop', 'whipped', 'o', 'cord', 'plugged', 'crosswalk', 'pedestrian', 'lapel', 'biting', 'tuxedo', 'bakery', 'named', 'boarded', 'chinese', 'tunnel', 'verdant', 'listening', 'besides', 'names', 'roads', 'sings', 'twisting', 'leaking', 'weird', 'comical', 'creme', 'krispy', 'kreme', 'dunkin', 'baker', 'jug', 'sprinkle', 'calm', 'harness', 'led', 'trainer', 'walked', 'amid', 'kits', 'ramps', 'fans', 'pennsylvania', 'ave', 'w', 'executive', 'avenue', 'ketchup', 'd', 'supply', 'embrace', 'cuddle', 'champagne', 'settings', 'glassed', 'foreign', 'elevated', 'korean', 'adorable', 'comfortable', 'flown', 'tip', 'f', 'consists', 'gliding', 'slides', 'combo', 'dispenser', 'refridgerator', 'roomful', 'celebrate', 'exchange', 'gifts', 'key', 'unwrapped', 'santa', 'int', 'grill', 'burner', 'leaving', 'disembarking', 'mural', 'toaster', 'graphics', 'boston', 'terrier', 'calf', 'dull', 'fastened', 'packages', 'limbs', 'likes', 'cupcakes', 'sweet', 'deer', 'elk', 'antelope', 'medicine', 'sedan', 'scarves', 'stare', 'footlong', 'fixings', 'surfs', 'dough', 'darkly', 'search', 'possible', 'chefs', 'cooks', 'housing', 'prepare', 'buffet', 'fixing', 'am', 'batches', 'croissants', 'tongs', 'stacks', 'sweets', 'desserts', 'such', 'breads', 'capped', 'blizzard', 'roller', 'attic', 'strapped', 'alcove', 'tractor', 'pug', 'pirate', 'tongue', 'peacefully', 'naps', 'consumption', 'cellular', 'japanese', 'setup', 'exhibition', 'webpage', 'entertainment', 'speakers', 'photographs', 'buckled', 'gay', 'tin', 'herbs', 'drying', 'nest', 'owl', 'packing', 'basement', 'lift', 'bin', 'rugs', 'flooring', 'uk', 'omelet', 'figs', 'then', 'share', 'guests', 'burgers', 'sodas', 'lunches', 'amidst', 'craggy', 'cobble', 'elaborately', 'fries', 'hamburger', 'french', 'seafood', 'cocktail', 'garnish', 'spear', 'mustache', 'camel', 'wheel', 'because', 'unaware', 'domed', 'structure', 'peak', 'harry', 'photography', 'slate', 'support', 'patiently', 'onward', 'banquet', 'chandelier', 'industrial', 'aprons', 'ergonomic', 'compared', 'need', 'remodeling', 'repair', 'crumbling', 'peels', 'late', 'start', 'signals', 'glow', 'so', 'lemon', 'sections', 'crowds', 'tasting', 'quite', 'engines', 'tricky', 'grind', 'usual', 'soil', 'tablecloth', 'chained', 'partial', 'vines', 'grown', 'vine', 'ivy', 'films', 'filming', 'record', 'steal', 'come', 'clutter', 'miscellaneous', 'artichoke', 'olive', 'preforming', 'without', 'hilltop', 'squatting', 'kneels', 'tack', 'identification', 'foliage', 'spray', 'buns', 'dipping', 'copper', 'removing', 'rolled', 'sleeves', 'loose', 'ton', 'luxurious', 'beginning', 'grater', 'mix', 'reveals', 'longboard', 'kneepads', 'concerned', 'chevrolet', 'bumper', 'fairy', 'tangled', 'hung', 'confusing', 'would', 'usually', 'focused', 'flooding', 'miles', 'flood', 'winds', 'poised', 'grounds', 'grains', 'barge', 'bay', 'cargo', 'hotplate', 'harnesses', 'hitched', 'talks', 'males', 'utensil', 'cityscape', 'downtown', 'spiky', 'fairly', 'power', 'whom', 'oddly', 'bats', 'unable', 'series', 'tangerines', 'nutritious', 'choices', 'compartments', 'danish', 'squares', 'hawk', 'lazily', 'daffodils', 'ray', 'mantel', 'dim', 'peaks', 'shadowy', 'sidewalks', 'liberty', 'ribbon', 'jockey', 'polo', 'sled', 'sleigh', 'pearls', 'honey', 'packets', 'ruby', 'twin', 'spread', 'pita', 'entrance', 'chicago', 'eatery', 'glue', 'travel', 'toothpaste', 'coating', 'wrapping', 'sample', 'tube', 'paste', 'moves', 'attendees', 'celebration', 'antelopes', 'tips', 'heater', 'mac', 'polaroid', 'squatted', 'penguins', 'penguin', 'follow', 'layer', 'strawberry', 'roses', 'beautifully', 'rom', 'den', 'younger', 'uniforms', 'observation', 'ceremony', 'stem', 'though', 'stemmed', 'teenagers', 'slowly', 'sack', 'hides', 'hide', 'crouched', 'belongs', 'almost', 'frisbees', 'coupe', 'earphones', 'signage', 'desolate', 'capture', 'kiwi', 'nothing', 'else', 'swan', 'cranes', 'crackers', 'tupperware', 'muffins', 'bratwurst', 'articles', 'styling', 'iron', 'paddling', 'bathe', 'creek', 'must', 'force', 'europe', 'part', 'poking', 'noses', 'statute', 'redheaded', 'motorcyclist', 'digital', 'tight', 'coke', 'backsides', 'ends', 'surfboarding', 'tons', 'rowing', 'hotdogs', 'spices', 'salmon', 'servings', 'ranch', 'movie', 'exercising', 'fog', 'points', 'dried', 'sniffs', 'skillets', 'hog', 'sunglasses', 'moldy', 'rotten', 'bank', 'plated', 'pencil', 'tinted', 'spring', 'hind', 'excited', 'deserted', 'updated', 'brand', 'news', 'equipped', 'latest', 'residence', 'rod', 'freeway', 'wash', 'buckets', 'washroom', 'wok', 'deli', 'grocery', 'cigarette', 'advertisements', 'department', 'shearing', 'king', 'gives', 'central', 'pavilion', 'uncut', 'wispy', 'storm', 'loom', 'wires', 'figurine', 'elizabeth', 'british', 'england', 'illuminate', 'streetlights', 'boardwalk', 'babies', 'breath', 'tusks', 'edible', 'woven', 'awful', 'cheesecake', 'crying', 'law', 'enforcement', 'bullet', 'parrot', 'cozy', 'burger', 'vegtables', 'watermelon', 'fits', 'width', 'cocoa', 'beagle', 'tug', 'war', 'pause', 'social', 'feed', 'spewing', 'billows', 'speedboat', 'nature', 'tiered', 'pottery', 'outfits', 'seperate', 'bomb', 'west', 'curl', 'moss', 'substance', 'corral', 'seaweed', 'depicted', 'dew', 'rises', 'tiling', 'stalk', 'bud', 'blooming', 'beers', 'cheesy', 'cold', 'tries', 'last', 'backwards', 'also', 'toiletries', 'frames', 'shots', 'clips', 'panels', 'trimmed', 'commuters', 'playground', 'sells', 'helps', 'candle', 'citrus', 'hook', 'litter', 'aluminum', 'cushioned', 'channel', 'sister', 'east', '50', 'onion', 'relish', '54', 'propellers', 'seaplane', 'nunchuck', 'attachment', 'revealing', 'recess', 'ethnic', 'contain', 'blend', 'nude', 'rubs', 'rubbing', 'balance', 'snuggled', 'pail', 'tubs', 'nasty', 'chose', 'warming', 'oversize', 'feeder', 'birdhouse', 'pews', 'cathedral', 'throughout', 'teal', 'rue', 'pillar', 'accented', 'major', 'league', 'briefcase', 'puffs', 'choose', 'fried', 'steams', 'carrot', 'act', 'carved', 'decoration', 'flanked', 'cone', 'spilled', 'shears', 'pinking', 'handing', 'included', 'judge', 'glaring', 'upper', 'carriers', 'battery', 'candlelight', 'sinking', 'cucumber', 'garlic', 'pelican', 'tropical', 'tide', 'indicating', 'choppy', 'sorts', 'jets', 'frizbee', 'seasoned', 'asparagus', 'noodle', 'seasonings', 'stump', 'umbrealla', 'statues', 'amazing', 'mannequins', 'aged', 'furnished', 'womans', 'deformed', 'outstretched', 'sleeps', 'bad', 'studio', 'crouching', 'cages', 'looked', 'curtained', 'arrangements', 'firefighter', 'job', 'firetruck', 'firemen', 'wrench', 'flow', 'paneled', 'accessories', 'messages', 'signpost', '3', 'loaf', 'loaves', 'selection', 'taste', 'spanish', 'draw', 'efficient', 'modified', 'wiimote', 'tossing', 'savanna', 'crafted', 'casing', 'tails', 'outcropping', 'tags', 'shoulders', 'helicopter', 'cordless', 'signed', 'runner', 'baseman', 'second', 'colliding', 'crashing', 'slid', 'arabic', 'western', 'column', 'location', 'languages', 'towns', 'shipping', 'overalls', 'hauling', 'majestic', 'landscaping', 'pillars', 'jail', 'combs', 'afternoon', 'mamma', 'treed', 'cockpit', 'scenery', 'stunning', 'sittign', 'sepia', 'professionally', 'showcasing', 'tosses', 'dust', 'makeup', 'entertaining', 'clown', 'wig', 'helmets', 'pumpkin', 'lobby', 'most', 'isn', 'section', 'outward', 'announcing', 'times', 'upcoming', 'platforms', 'drainage', 'ditch', 'debris', 'whine', 'windmills', 'turbines', 'silhouettes', 'rabbit', 'mascot', 'geared', 'pickles', 'parents', 'cherries', 'chopping', 'competing', 'wander', 'carton', 'receiving', 'brushed', 'portrait', 'toned', 'formal', 'arid', 'vanilla', 'layered', 'beast', 'razor', 'snout', 'bearing', 'aggressively', 'buddy', 'squat', 'button', 'pig', 'internet', 'wrap', 'oreo', 'exhaust', 'fan', 'ventilation', 'topping', 'finishes', 'assembled', 'roam', 'salami', 'parrots', 'clicking', 'intense', 'roundabout', 'decked', 'spelled', 'caked', 'rapids', 'rapid', 'gestures', 'reflective', 'district', 'speeds', 'curving', 'touch', 'goodies', 'overpass', 'busses', 'presented', 'slide', 'deserts', 'yummy', 'chase', 'interactive', 'gaming', 'speckled', 'bareback', 'nearly', 'stoplights', 'threw', 'embracing', 'monks', 'rd', 'backed', 'unloading', 'rover', 'backing', 'army', 'sequence', 'stunts', 'telling', 'wildlife', 'wording', 'biscuits', 'biscuit', 'grits', 'attended', 'spotless', 'waterfront', 'hang', 'watery', 'talk', 'individuals', 'obstacles', 'circular', 'milks', 'tape', 'measure', 'spool', 'hats', 'feathers', 'ridding', 'dolls', 'carnival', 'amusement', 'coaster', 'attraction', 'chute', 'sails', 'airplanes', 'earbuds', 'hood', 'camper', 'hear', 'pours', 'oar', 'steer', 'conversations', 'idle', 'canadian', 'departing', 'delta', 'touches', 'lick', 'tale', 'character', 'bites', 'veil', 'chewing', 'chewed', 'smelling', 'yogurt', 'third', 'best', 'stepping', 'firm', 'intent', 'warehouse', 'focusing', 'imac', 'remnants', 'beached', 'cables', 'woodsy', 'surprise', 'plug', 'stationary', 'floats', 'bathed', 'cleaned', 'jammed', 'skills', 'assisting', 'involving', 'tablet', 'tool', 'cleans', 'proper', 'bundled', 'foaming', 'fellow', 'dude', 'crosses', 'wholly', 'yak', 'girafee', 'scape', 'polar', 'marbled', 'captive', 'stroke', 'holes', 'drizzled', 'monstrosity', 'm', 'mm', 'lime', 'dots', 'ribbons', 'pain', 'motorists', 'merge', 'gang', 'ware', 'futuristic', 'uneaten', 'dozens', 'smokey', 'stillness', 'development', 'wake', 'swimsuit', 'constructed', 'heights', 'taller', 'than', 'limo', 'officials', 'assist', 'maintained', 'patchy', 'micro', 'magazines', 'areas', 'suite', 'north', 'fuel', 'wing', 'knit', 'fro', 'quickly', 'profile', 'cliff', 'angle', 'captures', 'ticket', 'collecting', 'peeled', 'infield', 'neath', 'prints', 'sterile', 'emergency', 'fight', 'raring', 'smoothie', 'blending', 'creating', 'casting', 'shadow', 'leaping', 'grand', 'slam', 'save', 'death', 'buried', 'snuggles', 'arched', 'streak', 'hearty', 'yachts', 'flys', 'sucking', 'nursing', 'lily', 'pads', 'parasail', 'belongings', 'washer', 'tells', 'fifteen', 'until', 'twelve', 'custom', 'barrel', 'sidecar', 'efficiency', 'carnations', 'haircut', 'limb', 'distinct', 'gazes', 'volley', 'starts', 'pies', 'cuisine', 'concert', 'ordered', 'money', 'kiosk', 'witting', 'pineapples', 'pineapple', 'map', 'texting', 'metro', 'duty', 'hairless', 'controlled', 'trained', 'fueling', 'beige', 'shuttle', '5', 'treat', 'class', 'convertible', 'microwaves', 'saucers', 'mothers', 'priest', 'captured', 'moment', 'cuts', '7', 'p', 'cactus', 'monkey', 'navel', 'clementines', 'isle', 'foamy', 'victory', 'fist', 'gesture', 'evergreen', 'slow', 'handrail', 'opens', 'fours', 'pairs', 'puzzled', 'zone', 'twenty', 'limit', 'usa', 'soldiers', 'goodbye', 'nurses', 'refreshments', 'snowfall', 'mayonnaise', 'dip', 'vacant', 'bard', 'donkey', 'lovely', 'chops', 'stuffing', 'practice', 'winding', 'orchids', 'reached', 'wrong', 'pinstripe', 'pocket', 'waling', 'spotted', 'blocks', 'stretches', 'peering', 'horizontal', 'historic', 'dinning', 'peach', 'tulips', 'slicing', 'lodge', 'electrical', 'follows', 'atlantic', 'unidentifiable', 'flowery', 'nosing', 'observe', 'tiki', 'york', 'yankee', 'enormous', 'rings', 'story', 'groceries', 'motorbikes', 'atv', 'wheeler', 'autumn', 'arranging', 'cafeteria', 'goofy', 'eyeing', 'formations', 'zones', 'vertically', 'identical', 'press', 'keys', 'floppy', 'camping', 'india', 'morning', 'mail', 'mountainside', 'begins', 'rental', 'racks', 'paddles', 'jackets', 'france', 'airfield', 'lettering', 'deckered', 'doubledecker', 'fox', 'celebrating', 'pod', 'swiss', 'arial', 'dove', 'hardwood', 'satin', 'doesn', 'much', 'twigs', 'patches', 'luxury', 'necessities', 'unfinished', 'renovation', 'tarps', 'launches', 'tortilla', 'shell', 'formally', 'cupcake', 'culinary', 'headband', 'shaded', 'touched', 'stern', 'views', 'mickey', 'hope', 'tattoos', 'basic', 'normal', 'alot', 'classical', 'stormy', 'surround', 'examines', 'handsome', 'ultra', 'adorned', 'lapt', 'sailor', 'shops', 'singing', 'shadows', 'stranded', 'h', 'incredible', 'minute', 'dusty', 'kickstand', 'clustered', 'buidling', 'historical', 'checked', 'inspecting', 'coats', 'riderless', 'even', 'jockeys', 'ting', 'farmland', 'servicing', 'banners', 'lanterns', 'fronts', 'palace', 'dragging', 'skimpy', 'belly', 'dancers', 'bathing', 'ginger', 'crystal', 'serene', 'graduates', 'adorn', 'firetrucks', 'salt', 'pc', 'miss', 'baseballs', 'clearing', 'president', 'obama', 'campaign', 'alert', 'rally', 'florida', 'presidential', 'reporter', 'realistic', 'knitted', 'ten', 'cabbage', 'leeks', 'lemons', 'barber', 'penn', 'shetland', 'coral', 'kept', 'begin', 'barricades', 'tipped', 'docks', 'attendants', 'jobs', 'attending', 'disgusting', 'bend', 'somebody', 'sectional', 'l', 'peace', 'instruments', 'golf', 'toss', 'lounge', 'discussion', 'emo', 'comfortably', 'coloring', 'actually', 'airy', 'grandmother', 'jalapenos', 'motif', 'sites', 'plums', 'cluster', 're', 'when', 'allowed', 'stating', 'breaded', 'wineglasses', 'remain', 'wineglass', 'conveyer', 'bookcase', 'yawning', 'athletic', 'yells', 'excitedly', 'valleys', 'grinds', 'leaps', 'nike', 'tastefully', 'days', 'sales', 'documents', 'china', 'sofas', 'disabled', 'sight', 'handicap', 'handicapped', 'taps', 'diaper', 'varying', 'hammock', 'manger', 'th', 'cherry', 'blossom', 'erect', 'protein', 'drivers', 'snack', 'saloon', 'shutter', 'season', 'lighted', 'merry', 'holiday', 'stray', 'combing', 'childs', 'dollar', 'lane', 'lonely', 'spider', 'bug', 'contest', 'letting', 'extends', 'hairy', 'blocked', 'hazard', 'sons', 'alpine', 'description', 'trio', 'forces', 'birch', '25', 'elbows', 'instructor', 'important', 'ever', 'surfboarder', 'hamburgers', 'senior', 'citizens', 'parallel', 'extra', 'baggy', 'strikes', 'unpeeled', 'maneuvers', 'slalom', 'pastel', 'mosaic', 'celebratory', 'unique', 'exhausted', 'stopping', 'sweating', 'interacting', 'storing', 'skillet', 'perspective', 'fluorescent', 'skirts', 'stomach', 'calico', 'benz', 'lifeguard', 'nudging', 'licking', 'balances', 'grilling', 'dumb', 'destination', 'nobody', 'wardrobe', 'toddlers', 'thats', 'attempt', 'tshirt', 'appealing', 'neutral', 'scheme', 'comically', 'horn', 'pro', 'homer', 'cab', 'collage', 'remarkable', 'suited', 'crocheted', 'llama', 'pendant', 'faucets', 'push', 'freez', 'sleeve', 'congregate', 'carried', 'cuddled', 'cushions', 'nourishment', 'protrudes', 'exchanging', 'knight', 'clocktower', 'octopus', 'youth', 'monkeys', 'frog', 'reacts', 'accompany', 'juvenile', 'cheeseburger', 'legos', 'topper', 'lego', '8', 'knives', 'kit', 'today', 'climate', 'guitar', 'liquor', 'collie', 'adjusting', 'crews', 'slowing', 'sigh', 'beam', 'cola', 'star', 'talbe', 'decorating', 'pouch', 'spools', 'scout', 'families', 'foothills', 'faux', 'cutlery', 'present', 'scones', 'wings', 'watered', 'flapping', 'shades', 'blind', 'pleasant', 'stocked', 'observing', 'cd', 'bureau', 'tire', 'rims', 'lavishly', 'curls', 'dribbles', 'baseline', 'applying', 'pasted', 'campsite', 'barefoot', 'turkey', 'hour', 'garnished', 'coca', 'bricked', 'football', 'crow', 'enjoys', 'sunbathing', 'patrons', 'successfully', 'markets', 'handmade', 'merchandise', 'microphone', 'juggling', 'toys', 'ipad', 'calling', 'diners', 'ate', 'browses', 'farmers', 'pitches', 'word', 'glider', 'walker', 'chilly', 'stages', 'fry', 'letter', 'masts', 'goblet', 'sparkling', 'shoppers', 'overflowing', 'cheap', 'music', 'raining', 'breasted', 'stirs', 'stirring', 'ladle', 'pics', 'exits', 'arrows', 'unpainted', 'bone', 'medal', 'handrails', 'combines', 'cloudless', 'dudes', 'spicy', 'leaned', 'transporting', 'artful', 'heeled', 'heel', 'crouches', 'protection', 'preforms', 'skylight', 'shines', 'snake', 'intricately', 'mixer', 'bagel', 'sing', 'listen', 'letters', 'forehead', 'squished', 'puppets', 'crafting', 'paints', 'coin', 'sunrise', 'dawn', 'eagerly', 'hardware', 'rough', 'flyers', 'taped', 'exterior', 'posters', 'props', 'vw', 'become', 'graveled', 'roofs', 'condos', 'fowl', 'spreads', 'maker', 'beaming', 'searching', 'flickr', 'hooked', 'claw', 'theater', 'theatre', 'marquee', 'less', 'del', 'tired', 'photographer', 'ii', 'quaint', 'toll', 'meters', 'cops', 'diagonal', 'elbow', 'knee', 'meant', 'friendly', 'businesses', 'egret', 'cartoonish', 'suckles', 'dollhouse', 'drum', 'should', 'lite', 'sound', 'sprawled', 'atm', 'performer', 'co', 'trough', 'leave', 'secured', 'readying', 'hunched', 'chick', 'butt', 'figurines', 'bbq', 'nearing', 'crossroad', 'diesel', 'grade', 'bleachers', 'complex', 'snowing', 'inflatable', 'outdated', 'printer', 'screens', 'roaming', 'blindfolded', 'relaxes', 'streaking', 'changing', 'blank', 'pantry', 'provides', 'handy', 'convenient', 'stored', 'booster', 'hiking', 'navigating', 'urinating', 'recording', 'shelter', 'hoagie', 'meatballs', 'kings', 'oxen', 'prairie', 'grassed', 'overweight', 'planks', 'wreath', 'legged', 'holing', 'got', 'cobbled', 'nine', 'lanes', 'completely', 'causing', 'jam', 'hooded', 'welcome', 'basketball', 'gym', 'bangs', 'linen', 'cable', 'mama', 'solo', 'crab', 'bricks', 'released', 'trashcan', 'shrimp', 'grizzle', 'forrest', 'eastern', 'feather', 'garland', 'religious', 'procession', 'pokes', 'potter', 'careful', 'marshy', 'balloons', 'presentation', 'raincoat', 'symbols', 'oars', 'puffy', 'escort', 'snap', 'combination', 'peacock', 'finished', 'stir', 'proceed', 'convoy', 'san', 'francisco', 'years', 'ago', 'wagons', 'foodstuffs', 'lagoon', 'junction', 'guns', 'boulevard', 'bowling', 'mills', 'barbecue', 'casserole', 'sugared', 'wtih', 'create', 'charm', 'stucco', 'dwelling', 'alfalfa', 'papered', 'shoveling', 'inverted', 'member', 'hospital', 'visitors', 'chicks', 'convention', 'facade', 'quilt', 'doctors', 'prepping', 'medical', 'doctor', 'overhand', 'inspect', 'caddy', 'paraphernalia', 'expertly', 'vigorously', 'thank', 'strung', 'seashore', 'wakeboarding', 'dear', 'girraffe', 'ruffled', 'extending', 'passed', 'consumed', 'fountain', 'bored', 'think', 'archway', 'passage', 'traditional', 'shawl', 'newlywed', 'hips', 'gull', 'appearing', 'untied', 'earlier', 'icebox', 'daisy', 'silos', 'structures', 'harnessed', 'wear', 'caps', 'flatbread', 'pepsi', 'freely', 'boom', 'crew', 'gentlemen', 'staying', 'waffles', 'blueberry', 'club', 'somewhat', 'domestic', 'glows', 'columns', 'rust', 'describing', 'projector', 'projection', 'parasailers', 'sailors', 'hooks', 'homes', 'community', 'pretend', 'de', 'handwritten', 'local', 'soldier', 'slippers', 'backlit', 'neglected', 'unhappy', 'burnt', 'edges', 'pear', 'chalkboard', 'crazy', 'demonic', 'airways', 'clause', 'gloved', 'butcher', 'vertical', 'conditions', 'exposure', 'peopel', 'pecks', 'supermarket', 'embroidered', 'cracker', 'ladder', 'starring', 'knelt', 'engaging', 'inserted', 'zucchini', 'outfield', 'devoid', 'en', 'awkward', 'drain', 'obscured', 'underbrush', 'booty', 'dotted', 'those', 'possibly', 'baltimore', 'memorial', 'snowshoes', 'grassing', 'bidet', 'chopper', 'pic', 'shoot', 'airstrip', 'upstairs', 'mash', 'aa', 'feta', 'zipping', 'temporary', 'contraption', 'merchant', 'layout', 'cruising', 'motorboat', 'sparkler', 'expansive', 'illuminating', 'standup', 'carpets', 'mats', 'graduate', 'gown', 'chats', 'graduation', 'faucet', 'overtop', 'react', 'strangely', 'potty', 'comics', 'comic', 'darkened', 'keychain', 'brace', 'lanyard', 'raw', 'settee', 'handed', 'screened', 'batteries', 'roast', 'toes', 'fell', 'determined', 'gripping', 'tapping', 'briefcases', 'unattended', 'businessmen', 'gone', 'cities', 'march', 'forehand', 'bystanders', 'onlooking', 'audio', 'wool', 'dozen', 'maple', 'muzzle', 'wooly', 'hug', 'shallows', 'cartoon', 'moose', 'highly', 'everyone', 'presents', 'underside', 'retro', 'era', 'descend', 'applauding', 'congregating', 'hummingbird', 'humming', 'students', 'apparently', 'damage', 'ruined', 'overstuffed', 'comforters', 'rooms', 'plan', 'divider', 'ornaments', 'petted', 'coleslaw', 'sauerkraut', 'dripping', 'frolic', 'mp3', 'headphone', 'obscures', 'supreme', 'granola', 'stately', 'rise', 'jewelry', 'holidays', 'pages', 'billowing', 'edged', 'wrought', 'condition', 'wiped', 'trotting', 'mailbox', 'masked', 'mask', 'respected', 'transparent', 'host', 'lapse', 'soar', 'trip', 'jumper', 'concentrating', 'intensely', 'target', 'ending', 'every', 'carriages', 'blinders', 'reins', 'cape', 'snapshot', 'tarp', 'frowning', 'expressing', 'wallpaper', 'placid', 'reeds', 'grow', 'flaps', 'manmade', '3d', 'fountains', 'polished', 'stones', 'artsy', 'heels', 'ford', 'called', 'brother', 'calls', 'safe', 'coaches', 'pressed', 'motes', 'hammer', 'windy', 'windsurfing', 'animated', 'storefront', 'photoshopped', 'motocross', 'auditorium', 'bison', '12', '00', 'famous', 'speeding', 'spilling', 'wrappers', 'study', 'circles', 'swamp', 'exercises', 'muscles', 'highest', 'brownies', 'od', 'indicates', 'bookbag', 'scrubber', 'drop', 'rulers', 'folding', 'ruler', 'circus', 'formation', 'provide', 'caption', 'timer', 'honda', 'label', 'tins', 'chaise', 'televisions', 'tying', 'queue', 'spinning', 'urn', 'annual', 'remains', '5th', 'fifth', 'glides', 'picturesque', 'thumbs', 'calves', 'calfs', 'guitars', 'tp', 'filthy', 'chases', 'engage', 'dinette', 'skin', 'patchwork', 'closing', 'species', 'staff', 'earrings', 'tusk', 'trots', 'vast', 'swims', 'blades', 'drill', 'sheers', 'vice', 'comb', 'trouble', 'graffitti', 'bannister', 'banister', 'observed', 'billboard', 'why', 'enthusiastically', 'prep', 'vein', 'marked', 'underway', 'bodyboard', 'skim', 'fitted', 'training', 'aid', 'common', 'vendor', 'poked', 'twig', 'negative', 'lifted', 'scarfs', 'empire', 'jogging', 'wheelers', 'flyer', 'buddhist', 'facial', 'worked', 'delivered', 'decides', 'dumplings', 'cubby', 'pawing', 'barbed', 'courthouse', 'attire', 'hip', 'marmalade', 'tubes', 'illuminated', 'waterhole', 'plans', 'sneaker', 'allow', 'muffin', 'nuzzle', 'landed', 'southwest', 'taxis', 'infront', 'os', 'shrine', 'trike', 'nuts', 'walnut', 'bits', 'cosmetic', 'await', 'boad', 'trade', 'crisp', 'sesame', 'seeds', 'clipping', 'nails', 'siamese', 'allows', 'sunlit', 'ceilings', 'couples', 'terrace', 'grafitti', 'climb', 'filth', 'forklift', 'form', 'operator', '18', 'rig', 'pears', 'titled', 'stilts', 'leopard', 'partaking', 'activities', 'owners', 'rugby', 'avoid', 'ballpark', 'buttered', 'mayo', '11', '1', 'weaving', 'biathlon', 'vancouver', 'olympics', 'italy', 'unlit', 'gothic', 'arches', 'steeples', 'tours', 'banks', 'sheer', 'waking', 'chickpeas', 'cooler', 'private', 'chew', 'playfully', 'elvis', 'motorized', 'pretending', 'currently', 'cube', 'placemat', 'blood', 'pomegranate', 'holders', 'outhouse', 'recessed', 'spare', 'given', 'toped', 'lobster', 'newborn', 'household', 'loving', 'perching', 'hoping', 'canvas', 'dash', 'av', 'function', 'partners', 'crepe', 'steamboat', 'vegitables', 'crock', 'cooker', 'motoring', 'globe', 'actual', 'nut', 'price', 'wildebeest', 'shake', 'milkshake', 'mixers', 'mint', 'manhattan', 'marinara', 'yoga', 'presses', 'bluff', 'stroll', 'hipsters', 'pf', 'ceramics', 'sauces', 'custard', 'occasion', 'uncovered', 'caboose', 'email', 'address', 'yellowish', 'lotion', 'harley', 'davidson', 'snowsuit', 'frozen', 'purchase', 'bound', 'sleeveless', 'handles', 'handled', 'cork', 'dachshund', 'aligned', 'lookout', 'wi', 'readies', 'hil', 'grabs', 'wakeboarder', 'untouched', 'participating', 'competitive', 'olympic', 'swirled', 'caramel', 'swirl', 'keeping', 'drenched', 'bounces', 'snows', 'eyeglasses', 'change', 'official', 'maid', 'available', 'exercise', 'via', 'cloths', 'laundry', 'hamper', 'dingy', 'dugout', 'sox', 'grid', 'rotting', 'packaged', 'condom', 'toilette', 'flashlight', 'ith', 'interest', 'grainy', 'straightening', 'sick', 'shredded', 'lighthouse', 'wheat', 'pirates', 'peaches', 'orchard', 'hogs', 'rackett', 'chairlift', 'corrected', 'numbered', 'gadgets', 'believing', 'ugly', 'pump', 'route', 'crash', 'crossword', 'hazy', 'bedside', 'quilted', 'cookbook', 'foraging', 'twist', 'sure', 'sin', 'herded', 'wedge', 'goatee', 'snowman', 'offered', 'gorilla', 'portion', 'flops', 'zombie', 'canada', 'indicate', 'teh', 'biplane', 'projects', 'apartments', 'poppy', 'seed', 'plat', 'let', 'resturant', 'providing', 'birth', 'origami', 'collect', 'nectar', 'sunflowers', 'steaming', 'minimalist', 'safari', 'leafs', 'curiously', 'bought', 'wilting', 'hey', 'atvs', 'bases', 'score', 'gras', 'bead', 'accessory', 'seashells', 'shells', 'inscribed', 'visor', 'median', 'pomeranian', 'orderly', 'gotten', 'mattress', 'mushroom', 'heating', 'buying', 'bundt', 'bunt', 'super', 'fills', 'draft', 'native', 'labrador', 'bring', 'videogame', 'edited', 'rods', 'union', 'jack', 'afro', 'demon', 'circuit', 'wade', 'connection', 'cramped', 'waste', 'booze', 'cultural', 'retail', 'stores', 'leashed', 'flamingos', 'vendors', 'canopies', 'dinosaur', 'dinosaurs', 'scratches', 'tugging', 'tipping', 'drags', 'rooster', 'raft', 'bot', 'canal', 'sidelines', 'forlorn', 'koala', 'stories', 'website', 'tech', 'web', 'pda', 'technological', '350', 'flipped', 'attend', 'badminton', 'nook', 'cabs', 'blacktop', 'impressed', 'greenish', 'bookcases', 'futon', 'stereo', 'springs', 'operated', 'converted', 'donation', 'collector', 'pecking', 'runways', 'rv', 'technology', 'paperwork', 'gates', 'representation', 'dials', 'gathers', 'members', 'netting', 'pyramid', 'dividing', 'gross', 'huddle', 'ranges', 'mandarin', 'tangerine', 'investigating', 'smoothies', 'pomegranates', 'navigate', 'centers', 'buttons', 'thre', 'strands', 'spice', 'journey', 'strand', 'descending', 'charge', 'charms', 'watched', 'grapes', 'sprays', 'fingertips', 'plaque', 'gyro', 'badly', 'shattered', 'greek', 'mate', 'paneling', 'sombrero', 'perimeter', 'feature', 'turf', 'ancient', 'woolly', 'tricycle', 'parmesan', 'cleaver', 'exposed', 'claus', 'your', 'dense', 'allover', 'wraps', 'jetliners', 'specialty', 'adjustable', 'thumb', 'spa', 'rub', '35', 'sweat', 'ostrich', 'fixes', 'admire', 'broth', 'berry', 'america', 'cheetah', 'enclose', 'fences', 'situation', 'solitary', 'warmly', 'camp', 'transport', 'protector', 'slats', 'evil', 'grumpy', 'vibrant', 'soups', 'missed', 'lunging', 'blazer', 'guide', 'menus', 'john', 'burritos', 'menu', 'lining', 'cgi', 'plunger', 'nights', 'contained', 'slat', 'nuzzling', 'salads', 'lightly', 'brownish', 'barred', 'filmed', 'media', 'consoles', 'panting', 'tarts', 'countries', 'calculator', 'connecting', 'example', 'skilled', 'casual', 'mouths', 'chip', 'breeds', 'tows', '747', 'toasted', 'arugula', 'dangerously', 'tanker', 'accepting', 'server', 'bartender', 'waiter', 'mill', 'socializing', 'roots', 'celery', 'galley', 'gulls', 'infamous', 'parliament', 'thames', 'spaceous', 'crashes', 'retrieves', 'mates', 'fatigues', 'antiques', 'barbie', 'memorabilia', 'shares', 'tended', 'diced', 'dummy', 'novelty', 'monorail', 'atmosphere', 'diner', 'salesman', 'badge', 'centerpiece', 'dalmation', 'plantain', 'services', 'sold', 'destinations', 'weathervane', 'linoleum', 'laminate', 'rancher', 'poured', 'eiffel', 'plugs', 'least', 'wrinkled', 'yankees', 'shoved', 'sanitizer', 'overlooks', 'turbine', 'penned', 'forty', 'attentively', 'breasts', 'cliffs', 'railways', 'pallet', 'guided', 'convenience', 'bandanna', 'awesome', 'flour', 'better', 'crib', 'plump', 'defensive', 'peaking', 'squirrel', 'pill', 'quarter', 'r', 'document', 'clapping', 'gazelles', 'warms', 'tankless', 'toronto', 'handlebar', 'idly', 'cartoons', 'cranberries', 'paisley', 'motorcyle', 'ghost', 'facet', 'mallard', 'swans', 'tried', 'gilded', 'nears', 'thee', 'bouncing', 'crochet', 'businessman', 'hurdles', 'denim', 'fix', 'gentle', 'shark', 'dolphins', 'dolphin', 'quesadilla', 'patrol', 'crumpled', 'bill', 'brimmed', 'drag', 'spaces', 'deciding', 'whether', 'rendering', 'generated', 'listens', 'vicinity', 'tell', 'decal', 'vision', 'auto', 'handler', 'wand', 'lavish', 'barns', 'combined', 'bodies', 'cemetery', 'graveyard', 'german', 'shepherd', 'budweiser', 'australian', 'coffeemaker', 'wiping', 'fo', 'workspace', 'articulated', 'aboard', 'rectangle', 'mossy', 'rams', 'butting', 'elevator', 'mens', 'pleasure', 'athlete', 'poor', 'pinned', 'binoculars', 'wallet', 'lasagna', 'coconut', 'melon', 'peer', 'shinning', 'texts', 'bass', 'musical', 'halloween', 'related', 'ex', 'lavender', 'showerhead', 'prize', 'winning', 'terminals', 'sloping', 'ascends', 'clad', 'fancily', 'average', 'heron', 'necked', 'grasping', 'bagels', 'serious', 'campground', 'bells', 'collars', 'ambulance', 'rules', 'k', 'embankment', 'coast', 'did', 'campers', 'tilted', 'coverings', 'due', 'distorted', 'discussing', 'eighteen', 'sex', 'squints', 'mount', 'delectable', 'marshmallows', 'practical', 'idea', 'soul', 'tusked', 'beaked', 'eagle', 'chilling', 'cottage', 'records', 'lazy', 'thicket', 'extension', 'decent', 'saint', 'skaters', 'tucked', 'ban', 'foal', 'khaki', 'similar', 'hunting', 'sell', 'fritter', 'segments', 'raises', 'cowgirl', 'discs', 'directional', 'scallions', 'perhaps', 'completed', 'oozing', 'blackened', 'knitting', 'ferries', 'magnet', 'preserve', '15', 'similarly', 'leftovers', 'vehicular', 'amenities', 'needles', 'scrambled', 'dips', 'trailers', 'brownie', 'learns', 'rodeo', 'reason', 'demonstration', 'marching', 'anti', 'awnings', 'unzipped', 'ivory', 'barricade', 'coup', 'panini', 'ion', 'sword', 'pour', 'adds', 'drab', 'unused', 'pedal', 'nibbling', 'trainers', 'difficult', 'whale', 'selections', 'browsing', 'browse', 'sub', 'competitors', 'tomatoe', 'racers', 'bra', 'teaching', 'summit', 'obelisk', 'mark', 'laugh', 'messing', 'guest', 'gleaming', 'shady', 'feminine', 'sips', 'companion', 'wife', 'aisle', 'stoned', 'streams', 'russian', 'grated', 'crammed', 'producing', 'contrails', 'aeroplane', 'delicous', 'eggplant', 'united', 'states', 'dick', '13', 'teammates', 'groomed', 'concentrates', 'broiler', 'gallon', 'jugs', 'cider', 'advantage', 'stay', 'casually', 'bridal', 'etched', 'raspberries', 'raspberry', 'hidden', 'closer', 'seniors', 'dunes', 'warped', 'boulders', 'slight', 'celebrates', 'goose', 'canoe', 'creature', 'goo', 'sheeps', 'casts', 'characters', 'cel', 'angel', 'crowding', 'breed', 'y', 'tattoo', 'piercing', 'barbeque', 'reception', 'farming', 'tend', 'hydrants', 'streamlined', 'utilitarian', 'recipe', 'impressive', 'repaired', 'ages', 'grasslands', 'damp', 'carnation', 'gigantic', 'piers', 'injured', 'finishing', 'obstructed', 'halved', 'unripened', 'advertise', 'seal', 'ajar', 'textured', 'brief', 'mario', 'kart', 'proudly', 'brahma', 'acting', 'mopeds', 'scooters', 'able', 'state', 'whiskers', 'buy', 'skillfully', 'baord', 'picks', 'higher', 'ripened', 'tuna', 'overgrown', 'torn', 'skyscrapers', 'experiment', 'binder', 'indifferent', '24', 'surroundings', 'stock', 'partner', 'underwater', 'easel', 'jacuzzi', 'sunken', 'classy', 'flatscreen', 'once', 'extreme', 'scoops', 'bushel', 'drawings', 'whiteboard', 'erase', 'trolly', 'sightseeing', 'almonds', 'brochure', 'equestrian', 'anchor', 'clinton', 'announcer', 'vegetated', 'framing', 'outskirts', 'depart', 'mic', 'capital', 'capitol', 'government', 'receive', 'avocados', 'rounds', 'coached', 'spandex', 'sking', 'skiier', 'intersecting', 'streaks', 'cartons', 'bundles', 'consist', 'plaster', 'dune', 'posh', '10', 'monochrome', 'appetizers', 'wavy', 'sorting', 'crescent', 'peripherals', 'occupied', 'textbook', 'memory', 'foam', 'comfort', 'sibling', 'relaxed', 'riverboat', 'bridges', 'fires', 'bottled', 'cobblestones', 'gains', 'shelve', 'mitts', 'twp', 'mariners', 'contrast', 'wrestling', 'siding', 'wheelchairs', 'burrito', 'omelette', 'vegetarian', 'battleship', 'naval', 'whip', 'knick', 'glassware', 'bandana', 'footstool', 'fin', 'bi', 'motors', 'volleyball', 'scaffolding', 'rafters', 'grate', 'crumbled', 'further', 'scrubby', 'llamas', 'linger', 'mansion', 'rickshaw', 'euro', 'propellor', 'peanut', 'jelly', 'j', 'actor', 'parasols', 'admires', 'salsa', 'moon', 'aim', 'removed', 'peanuts', 'raisins', 'bonsai', 'licks', 'unknown', 'coated', 'usb', 'blinds', 'demolished', 'ruins', 'drilling', 'apparatus', 'pavers', 'galloping', 'leafless', 'guinness', 'adventure', 'beauty', 'chunk', 'plugging', 'fingers', 'needle', 'trek', 'treading', 'jumpsuit', 'takeout', 'ann', 'firehydrant', 'lock', 'protruding', 'picked', 'flipping', 'dedicated', 'astounding', 'blooms', 'styrofoam', 'boutonniere', 'gooey', 'kicks', 'transports', 'arrival', 'plantains', 'telescope', 'loads', 'grills', 'clothed', 'samsung', '29', 'knocked', 'pauses', 'bizarre', 'rooftop', 'manicured', 'vitamin', 'completes', 'tangle', 'nuzzles', 'nets', 'cycling', 'purpose', 'skyscraper', 'thirteen', 'sunflower', 'hero', 'submarine', 'condiment', 'allowing', 'rabbits', 'eclectic', 'grasps', 'snoozing', 'maneuver', 'pointy', 'adjust', 'hate', 'bake', 'clinging', 'farmhouse', 'pastor', 'property', 'begging', 'anticipation', 'scraps', 'longingly', 'highlighted', 'furnishing', 'corners', 'illusion', 'likely', 'sparrow', 'balanced', 'bulletin', 'pilots', 'id', 'badges', 'clipped', 'spaghetti', 'tear', 'athletes', 'enthusiast', 'embellished', 'yield', 'barbwire', 'triangle', 'stark', 'vcr', 'simply', 'firsbee', 'interacts', 'mcdonald', 'quick', 'lessons', 'gnome', 'shovel', 'bark', 'saddle', 'chugs', 'ina', 'keepers', 'woody', 'pup', 'popsicle', 'kettles', 'mints', 'manipulated', 'switching', 'com', 'asia', 'giants', 'bail', 'pounce', 'shift', 'innocent', 'linked', 'wanting', 'lookers', 'humans', 'cane', 'arrived', 'cole', 'slaw', 'chipping', 'golfer', 'outlets', 'collectible', 'outer', 'automatic', 'toiler', 'kayaks', 'grating', 'shredding', 'apparel', 'political', 'politician', 'wedges', 'steve', 'adjusts', 'watermelons', 'wanders', 'mohawk', 'mass', 'envelopes', 'peter', 'despite', 'downed', 'additional', 'adn', 'locomotives', 'confinement', 'duffel', 'joker', 'windmill', 'cornfield', 'goalie', 'munching', 'shorter', 'drifts', 'thatch', 'replica', 'swampy', 'windsurfs', 'juicy', '14', 'specific', 'write', 'hygiene', 'shared', 'toiletry', 'dealership', 'newer', 'louis', 'favorite', 'quantity', 'lemonade', 'shortly', 'washington', 'national', 'pakistan', 'ping', 'pong', 'tortillas', 'lacrosse', 'dirtbike', 'fabulous', 'shortcake', 'brake', 'fixture', 'workshop', 'handlebars', 'pedals', 'sweatpants', 'gallop', 'derby', 'backside', 'ridge', 'cam', 'barnyard', 'manning', 'hugs', 'hatchback', 'pudding', 'repairs', 'barrow', 'launch', 'anytime', 'rummaging', 'highlights', 'meatball', 'onlooker', 'coffe', 'smokes', 'chart', 'hers', 'fascinated', 'pregnant', 'systems', 'movies', 'spouting', 'musician', 'herb', 'densely', 'snowstorm', 'troll', 'grace', 'album', 'might', 'wolf', 'gaze', 'shacks', 'popping', 'peperoni', 'amish', 'flashes', 'toyota', 'corridor', 'overturned', 'fashionable', 'theres', 'wares', 'offer', 'yes', 'oceans', 'thanksgiving', 'seperated', 'continue', 'slider', 'disembark', 'choosing', 'resembling', 'buffalo', 'creative', 'add', 'alter', 'modeled', 'adolescent', 'spikes', 'dig', 'bowler', 'trellis', 'arbor', 'gazebo', 'mysterious', 'sniff', 'cardinal', 'robin', 'medley', 'vent', 'planted', 'prone', 'macbook', 'turnips', 'shoelace', 'furred', 'corded', 'husband', 'marriage', 'plats', 'stitch', 'looms', 'ar', 'artist', 'tvs', 'crt', 'catering', 'involved', 'aims', 'mild', 'overcoat', 'padded', 'insect', 'stretched', 'composed', 'halfway', 'manual', 'daisies', 'vacuum', 'foilage', 'dj', 'mad', 'fiddling', 'mixing', 'lasso', 'ans', 'lecture', 'drizzling', 'dragged', 'notebooks', 'files', 'soccerball', 'huddling', 'simulator', 'ferns', 'cub', 'somber', 'sweaters', 'tundra', 'attractively', 'paddleboarding', 'workbench', 'models', 'nad', 'curbside', 'peson', 'whizzes', 'peeing', 'ass', 'hoof', 'mangoes', 'catsup', 'crispy', 'combat', 'e', 'finish', 'lamppost', 'trucking', 'commuting', 'ox', 'steers', 'sony', 'true', 'sheared', 'protesting', 'plywood', 'cay', 'amateur', 'demonstrating', 'gaining', 'kangaroo', 'swimsuits', 'unpaved', 'standard', 'ont', 'footpath', 'smal', 'outfitted', 'fabrics', 'shakes', 'arrives', 'staked', 'oversized', 'checkerboard', 'rounded', 'gallery', 'vessel', 'coolers', 'graham', 'poorly', 'connect', 'freeze', 'thorny', 'brushy', 'scatter', 'canyon', 'payer', 'creams', 'customer', 'corporate', 'blvd', 'grain', 'teeshirt', 'mouses', 'fold', 'strolling', 'stride', 'soon', 'nd', 'mattresses', 'mulch', 'feathery', 'crusted', 'smell', 'arcade', 'vending', 'dance', 'parks', 'appropriate', 'metropolitan', 'launching', 'portraits', 'took', 'fisherman', 'gently', 'owls', 'armed', 'cilantro', 'shading', 'spoonful', 'visit', 'greet', 'tokyo', 'funnel', 'access', 'forth', 'squad', 'separates', 'widow', 'signing', 'gum', 'twins', 'ridden', 'attachments', 'herder', 'cuddles', 'orders', 'chaps', 'vying', 'moved', 'emerges', 'purchasing', 'employee', 'dreadlocks', 'kiddie', 'clothesline', 'kawasaki', 'aside', 'munches', 'happening', 'ripped', 'standstill', 'gliders', 'plying', 'conductor', 'source', 'microphones', 'cabins', 'homeplate', 'wheelie', 'c', 'arriving', 'swimmers', 'subs', 'burned', 'comparing', 'changes', 'future', 'beware', 'muzzled', 'skyteam', 'gun', 'shakers', 'hydrogen', 'b', 'q', 'spreading', 'pre', 'opponents', 'powdery', 'youths', 'padding', 'lincoln', 'pipes', 'motorcyles', 'secluded', 'clip', 'alligator', 'seriously', 'skateboarded', 'crooked', 'pipeline', 'receiver', 'pinstriped', 'mauve', 'outlet', 'extend', 'eager', 'dashboard', 'nigh', 'spin', 'rotating', 'virtual', 'overhang', 'attentive', 'creamy', 'recognizable', 'puddles', 'escorted', 'effects', 'version', 'chin', 'hairbrush', 'carving', 'carcass', 'crude', 'defaced', 'forming', 'readied', 'savannah', 'blast', 'performers', 'spectator', 'our', 'defense', 'mechanic', 'maintenance', 'instructional', 'paid', 'recreational', 'stationed', 'lack', 'emptied', 'zombies', 'dye', 'never', 'initials', 'tugboat', 'amp', 'g', 'rare', 'spears', 'easy', 'skinned', 'storefronts', 'royal', 'user', 'bathrooms', 'underpass', 'starbucks', 'toothpicks', 'effect', 'lattice', 'la', 'dodgers', 'los', 'angeles', 'ballgame', 'kickflip', 'avocado', 'patrick', 'wades', 'clusters', 'functional', 'winking', 'sheeted', 'pushes', 'stitched', 'bust', 'stethoscope', 'whisk', 'compass', 'jetty', 'alike', 'credit', 'gps', 'false', 'cleaner', 'diapers', 'saddles', 'trophy', 'toiled', 'joke', 'suspension', 'satellite', 'reflections', 'boiling', 'grayish', 'poodle', 'sending', 'snowmen', 'weapon', 'rooftops', 'puppies', 'pepperonis', 'ed', 'screwed', 'abundance', 'guides', 'assists', 'sheered', 'teacher', 'examine', 'specially', 'afghan', 'broom', 'melons', 'participate', 'everything', 'gorgeous', 'whites', 'fe', 'sown', 'altitude', 'waterskiing', 'keeps', 'former', 'soaking', 'accept', 'giraffee', 'swift', 'kayaking', 'streaming', 'pickled', 'speaker', 'cemetary', 'muscular', 'ewe', 'waffle', 'current', 'means', 'parsley', 'trolleys', 'directed', 'expo', 'stylus', 'operate', 'gadget', 'lost', 'streetcar', 'units', 'inspected', 'workstation', 'respective', 'butterflies', 'soccor', 'rugged', 'orioles', 'flips', 'calculators', 'inflated', 'zookeeper', 'inspired', 'sleeved', 'fondant', 'reader', 'jetway', 'contrasting', 'dodging', 'ollie', 'designer', 'article', 'ronald', 'clowns', 'stomachs', 'bridled', 'pockets', 'hockey', 'unload', 'sticky', 'application', 'curio', 'brave', 'crests', 'knoll', 'playstation', 'amazed', 'aloft', 'burners', 'rode', 'punk', 'rushes', 'jones', 'upholstered', 'chandeliers', 'hiker', 'lollipops', 'ordering', 'surrounds', 'armored', 'googly', 'crossroads', 'lipstick', 'essentials', 'penalty', 'perpendicular', 'vodka', 'tablets', 'ipads', 'understand', 'paris', 'tomatos', 'cove', 'mmm', 'ribs', 'grandma', 'dancer', 'mixes', 'upset', 'went', 'spout', 'nozzle', 'rowboats', 'proud', 'zoomed', 'details', 'showcase', 'returns', 'skull', 'crossbones', 'brought', 'concession', 'spires', 'skidding', 'differently', 'google', 'greets', 'weight', 'minivan', 'daughters', 'dolly', 'carting', 'satchel', 'send', 'fine', 'feast', 'victorian', 'gutter', 'toolbox', 'lcd', 'role', 'exceptionally', 'fulled', 'effort', 'dramatically', 'roosters', 'hyrdrant', 'ferris', 'showed', 'labelled', 'predators', 'pound', 'scary', 'chunks', 'award', 'folks', 'nearest', 'tailed', 'proceeding', 'escalator', 'slicer', 'barstools', 'farther', 'feeling', 'cheeks', 'shapped', 'marsh', 'popcorn', 'find', 'necessary', 'ref', 'railings', 'granny', 'hump', 'ontop', 'marking', 'cause', 'momma', 'jerseys', 'toe', 'swirls', 'laps', 'volkswagon', 'volkswagen', 'beetle', 'mules', 'handlers', 'parading', 'slanted', 'toliet', 'shirted', 'patrolling', 'cruises', 'artistically', 'decorates', 'horrible', 'singular', 'dives', 'kneel', 'splashes', 'disorganized', 'aiming', 'rubble', 'garment', 'cot', 'shocked', 'tranquil', 'wonder', 'escorting', 'ways', 'chocolates', 'year', 'worshiping', 'god', 'walkers', 'vespa', 'downwards', 'boulder', 'observes', 'servers', 'gracefully', 'program', 'multicolor', 'screaming', 'detail', 'mainly', 'plume', 'peeks', 'grins', 'cubical', 'braided', 'attacking', 'interviewing', 'clover', 'irish', 'portions', 'decoratively', 'artfully', 'sidecars', 'buoy', 'mature', 'sweeper', 'homeless', 'mango', 'jeeps', 'blended', 'zip', 'grape', 'charity', 'tinfoil', 'straps', 'ratchet', 'instructing', 'gymnasium', 'harper', 'bows', 'carring', 'mismatched', 'spell', 'chic', 'chilli', 'maneuvering', 'geometric', 'locker', 'vista', 'diverse', 'mitten', 'beads', 'gap', 'accessible', 'fielder', 'husky', 'trams', 'gleefully', 'patrols', 'restored', 'necklaces', 'advancing', 'viewpoint', 'interact', 'afield', 'brunch', 'safely', 'windsurfers', 'idyllic', 'lakeside', 'fling', 'highchair', 'loses', 'sweeping', 'concept', 'grave', 'lantern', 'solid', 'peoples', 'performance', 'coastline', 'flamingo', 'hull', 'tart', 'bakes', 'singer', 'consuming', 'flashing', 'cock', 'energy', 'knocking', 'blackberry', 'mist', 'coastal', 'attired', 'tux', 'trench', 'external', 'battered', 'walkways', 'pizzeria', 'thermos', 'ravioli', 'notice', 'overexposed', 'elongated', 'instruction', 'hugged', 'slips', 'airshow', 'kennel', 'duster', 'wth', 'hawaiian', 'stacking', 'experience', 'curves', 'shutters', 'spanning', 'coasters', 'locking', 'midday', 'munch', 'opener', '3rd', 'boar', 'whats', 'gears', 'losing', 'drops', 'disco', 'rat', 'diffrent', 'chevy', 'scallops', 'delicacy', 'interviewed', 'cocking', 'overly', 'ankles', 'leggings', 'marijuana', 'dumpster', 'indians', 'eleven', 'glimpse', 'pamphlets', 'brochures', 'gushing', 'daybed', 'animation', 'chugging', 'confused', 'emitting', 'dusted', 'contemplating', 'nokia', 'hotels', 'climber', 'handstand', 'helped', 'dine', 'spans', 'motorola', 'components', 'toting', 'mooring', 'looming', 'washes', 'spirit', 'hosing', 'schoolbus', 'diet', 'unbaked', 'doodling', 'mold', 'bugs', 'fit', 'carves', 'descent', 'margherita', 'sideline', 'armrest', 'widescreen', 'broke', 'tim', 'bumping', 'spending', 'perches', 'hanged', 'motorcylce', 'receives', 'thai', 'active', 'expression', 'easily', 'accordion', 'pandas', 'blaze', 'motorcross', 'pillowcases', 'grip', 'territory', 'pate', 'backseat', 'startled', 'punching', 'bullpen', 'balconies', 'receipt', 'flurry', 'pint', 'per', 'hued', 'flea', 'prizes', 'bazaar', 'pm', 'answering', 'haze', 'dusting', '13th', 'cannot', 'cinder', 'buiding', 'escape', 'peaceful', 'mousepad', 'manner', 'bid', 'grapefruits', 'particular', 'fez', 'usage', 'belong', 'boxcar', 'hikes', 'accent', 'dell', 'cresting', 'university', 'greasy', 'stockings', 'muslim', 'discuss', 'attack', 'hearts', 'chests', 'boaters', 'yamaha', 'examined', 'ensemble', 'drums', 'violin', 'trombone', 'unoccupied', 'overripe', 'bruised', 'aquarium', 'mice', 'binders', 'relatively', 'puff', 'grille', 'buliding', 'visitor', 'finely', 'plastered', 'scratched', 'broadway', 'tapestry', 'data', 'trophies', 'scarecrow', 'kneeled', 'becomes', 'stood', 'restaurants', 'tasks', 'clumps', 'capable', 'grimaces', 'george', 'magnetic', 'juicer', 'lighter', 'lilies', 'dressers', 'teddybear', 'inviting', 'beret', 'necklace', 'attracts', 'splayed', 'balding', 'presenting', 'jesus', 'paths', 'review', 'socialize', 'temple', 'poop', 'un', 'scruffy', 'wonderful', 'floaters', 'triangular', 'auction', 'dial', 'brass', 'nailed', 'doorways', 'tavern', 'browned', 'ups', 'song', 'customized', 'unclear', 'pretzel', 'torso', 'noon', 'gondola', 'knob', 'sling', 'canned', 'adjoining', 'freezers', 'bee', 'build', 'jay', 'feathered', 'heat', 'plaques', 'becoming', 'mane', 'traversing', 'nibbles', 'cubs', 'topless', 'duplicate', 'screwdriver', 'hitch', 'griddle', 'fives', 'fluffed', 'shopped', 'ward', 'trinkets', 'cubes', 'powerful', 'dc', 'montage', 'bikinis', 'developed', 'properly', 'themes', 'mcdonalds', 'inclosure', 'outwards', 'pancake', 'pride', 'blinder', 'stree', 'touring', 'hoods', 'childrens', 'contending', 'dangled', 'nightstands', 'homey', 'sipping', 'frosty', 'cameraman', 'rich', 'fluid', 'candies', 'quiche', 'x', 'lucky', 'telephones', 'organ', 'gift', 'tar', 'serviced', 'equestrians', 'friday', 'saddled', 'chipped', 'eachother', 'nesting', 'wintery', 'dentist', 'dental', 'modest', 'retaining', 'garnishment', 'bouquets', 'phrase', 'frisbie', 'braces', 'core', 'borders', 'guarding', 'enjoyed', 'yawns', 'actors', 'tiara', 'rested', 'explaining', 'changed', 'planters', 'pearl', 'clutching', 'lowering', 'cranberry', 'fliers', 'extravagant', 'retrieving', '55', 'juts', 'taht', 'dances', 'brakes', 'misses', 'gated', 'learn', 'oin', 'refueling', 'stations', 'plot', 'wars', 'postal', 'robot', 'germany', 'ladybug', 'civilians', 'teachers', 'sugary', 'vespas', 'wallpapered', 'crosswalks', 'hobby', 'protestors', 'separating', 'speared', 'reddish', 'mets', 'met', 'dramatic', 'sixteen', 'violet', 'unison', 'acrobatic', 'barefooted', 'rag', 'pliers', 'locks', 'dipped', 'lorry', 'dummies', 'walnuts', 'logos', 'grimacing', 'propping', 'expressions', 'duo', 'chess', 'youngsters', 'refrigerated', 'bulbs', '2013', 'international', 'writes', 'avid', 'nowhere', 'hours', 'tab', 'alertly', 'lockers', 'rent', 'airfrance', 'remodel', 'mosquito', 'crumbs', 'stables', 'kabob', 'bible', 'tote', 'smoked', 'pacifier', 'stoop', 'cotton', 'sloppy', 'hooves', 'shut', 'grinning', 'nerd', 'knobs', 'squeezing', 'squirting', 'deco', 'thinking', 'vineyard', 'wreck', 'traveled', 'skiies', 'scantily', 'growth', 'teach', 'seeking', 'kill', 'enclosures', 'foyer', 'tinsel', '66', 'sandwhiches', 'tissues', 'totally', 'preparations', 'strainer', 'dwarfed', 'sas', 'stnading', 'ostriches', 'uniquely', 'paying', 'nachos', 'rimmed', 'greyhound', 'tummy', 'wharf', 'automated', 'tri', 'ability', 'fading', 'creatures', 'blossoms', 'citizen', 'mit', 'brunette', 'caucasian', 'expanse', 'outcrop', 'teammate', 'intriguing', 'pace', 'bands', 'drunk', 'detailing', 'wintry', 'renaissance', 'clementine', 'envelope', 'struts', 'roping', 'buggies', 'pools', 'volunteers', 'triumphantly', 'obese', 'daily', 'hatch', 'browning', 'sunbathers', 'convex', 'longhorn', 'scottish', 'pant', 'timey', 'hoody', 'awards', 'espresso', 'rushing', 'wrestle', 'emerging', 'bespectacled', 'coordinating', 'pattered', 'protect', 'mode', 'headset', 'cantaloupe', 'awkwardly', 'cant', 'studying', 'dated', 'needing', 'maze', 'messenger', 'investigate', 'hike', 'licked', 'turban', 'toasters', 'affixed', 'flatware', 'antlers', 'supports', 'rays', 'sandal', 'pilled', 'tiers', 'cylinder', 'weed', 'brothers', 'tartar', 'transformed', 'affectionate', 'disney', 'girlfriend', 'reacting', 'playful', 'sanctioned', 'malaysia', 'vests', 'carafe', 'persian', 'colonial', 'app', 'darth', 'vader', 'incredibly', 'dumped', 'anything', 'kingdom', 'supported', 'refrigeration', 'flutes', 'egyptian', 'antenna', 'born', 'representing', 'occupies', 'hi', 'trot', 'slabs', 'runaway', 'winnie', 'pooh', '1st', 'stains', 'boundary', '22', 'adding', 'hes', 'loop', 'extinguisher', 'mock', 'kittens', 'messily', 'pops', 'confetti', 'cal', 'releases', 'extensive', 'excellent', 'clippers', 'croquet', 'quietly', 'bale', 'steet', 'protecting', 'rocket', 'cheering', 'cheer', 'joy', 'tether', 'disheveled', 'horizontally', 'science', 'electricity', 'wiring', 'balck', 'youngster', 'crack', 'truly', 'oats', 'shoots', 'sprout', 'replaced', 'scuba', 'divers', 'dive', 'swaddled', 'wipe', 'fixed', 'abandon', 'plethora', 'icon', 'parakeet', 'ironing', 'cheerful', 'operates', 'ted', 'elegantly', 'outlined', 'bustling', '16', 'informing', 'almond', 'gardening', 'crashed', 'hauled', 'pacific', 'anticipating', 'recreation', 'evenly', 'caravan', 'catholic', 'plus', 'peripheral', 'appetizer', 'medals', 'won', 'pecans', 'patties', 'slit', 'blenders', 'angrily', 'danger', 'texas', '34th', 'cash', 'register', 'eatting', 'winged', 'flowerpot', 'teacup', 'question', 'bills', 'jams', 'bodysuit', 'vans', 'pigtails', 'known', 'xbox', 'riverside', 'disassembled', 'smeared', 'falcon', 'dreary', 'removes', 'arranges', 'intersections', 'correct', 'delight', 'feild', 'buddha', 'darkness', 'stake', 'ease', 'creates', 'shopper', 'coals', 'bones', 'minutes', 'flank', 'hutch', 'prison', 'session', 'deal', 'bristles', 'individually', 'ona', 'grounded', 'packet', 'heap', '9', 'playroom', 'unidentified', 'bagged', 'checker', 'thoughtful', 'puppet', 'beets', '1950', 'pondering', '2012', 'blown', 'al', 'final', 'glide', 'pensive', 'indicator', 'restaraunt', 'bento', 'dr', '45', 'engraved', 'tanning', 'loves', 'tuxedos', 'peep', 'release', 'uncomfortable', 'launched', 'lumber', 'ledges', '6th', 'madison', 'johns', 'cashews', 'crops', 'decks', 'advanced', 'soars', 'modular', 'oakland', 'promotional', 'politicians', 'bees', 'camo', 'dribbling', 'sunday', 'brim', 'courtroom', 'armchair', 'leashes', 'poll', 'paperback', 'oblong', 'assisted', 'seuss', 'joint', 'corned', 'clump', 'unseen', 'latte', 'charlie', 'aimed', 'wheeling', 'tailgate', 'chalk', 'statement', 'claws', 'pedestals', 'paragliding', 'punch', 'philadelphia', 'redone', 'flippers', 'entryway', 'struggles', 'evergreens', 'ceremonial', 'mache', 'overloaded', 'nurse', 'hundred', 'mike', 'pawn', 'flows', 'flotation', 'pesto', 'britain', 'manufacturing', 'since', 'gauges', 'teresa', 'dinnerware', 'releasing', 'bracelet', 'pylons', 'sac', 'thousands', 'lampposts', 'tickets', 'skill', 'hollywood', 'entrees', 'tacks', 'postage', 'parasailer', 'photographic', 'filter', 'applied', 'billboards', 'supporting', 'printing', 'straddling', 'robotic', 'propellors', 'purses', 'wih', 'knotted', 'snowsuits', 'basins', 'swerving', 'bunched', 'cds', 'suites', 'belonging', 'qantas', 'australia', 'venturing', 'retrieve', 'doggie', 'doggy', 'trashcans', 'rescue', 'hoisted', 'scooping', 'orchid', 'recorder', '40', 'failing', 'draws', 'said', 'buldings', 'cricket', 'kraut', 'tripod', 'turbulent', 'gowns', 'seminar', 'later', 'spins', 'orphanage', 'walkie', 'talkie', 'sprints', 'cowboys', 'bubbles', 'remaining', 'tilts', 'fort', 'differnt', 'waxing', 'sprinkling', 'cupola', 'tastes', 'cutouts', 'regal', 'prior', 'hollow', 'decaying', 'compound', 'saw', 'ramen', 'gauze', 'tweezers', 'fender', 'emirates', 'ok', 'wile', 'wildebeests', 'cornbread', 'skewered', 'heaped', 'fourth', 'slip', 'catamaran', 'colgate', 'cookware', 'locations', 'cigarettes', 'whirlpool', 'rhino', 'hashbrowns', 'bordering', 'pressure', 'creation', 'passageway', 'mime', 'longer', 'returned', 'fiving', 'ottomans', 'stature', 'proximity', 'erected', 'pigs', 'assembling', 'spitting', 'spigot', 'approached', 'anchovies', 'sailboard', 'repairing', 'processing', 'choo', 'calzones', 'calzone', 'ironic', 'outs', 'corona', 'july', 'compute', 'swirling', 'piggy', 'strapping', 'gummy', 'wiener', 'dispensing', 'detroit', 'tigers', 'authentic', 'sidwalk', 'floret', 'jackson', 'bassinet', 'matter', 'tot', 'bunting', 'upwards', 'pristine', 'unfurnished', '30', 'title', 'newest', 'entirely', 'blt', 'bulding', 'spire', 'dougnuts', 'chance', 'professionals', 'stairwell', 'expired', 'firefighters', 'fir', 'bubbly', 'eva', 'susan', 'biplanes', 'sneaks', 'ruck', 'engineer', 'calmly', 'plentiful', 'calendar', 'roaring', 'avoiding', 'trooper', 'rained', 'airliners', 'windup', 'continental', 'dam', 'reveal', 'bulldog', 'certainly', 'bucking', 'bronco', 'stealing', 'nibble', 'kneading', 'focal', 'kleenex', 'stuffs', 'bicycling', 'feasting', 'tagging', 'microsoft', 'sweaty', 'growling', 'affection', 'rags', 'cupping', 'icons', 'sprig', 'nun', 'goldfish', 'entertainer', 'sauteed', 'please', 'artichokes', 'jello', 'hyde', 'largely', 'knights', 'matress', 'departure', 'mating', 'undergoing', 'renovations', 'jointly', 'humongous', 'rears', 'chat', 'pike', 'railed', 'funeral', 'apricots', 'vivid', 'hors', 'wagging', 'coop', 'vultures', 'chow', 'mein', 'created', 'parcel', 'inn', 'purchased', 'shit', 'relief', 'twirling', 'barbecued', 'strategically', 'recycling', 'mommy', 'duel', 'muscle', 'outline', 'centered', 'mouthed', 'streamers', 'colts', 'pills', 'unicorn', 'terrible', 'driftwood', 'captain', 'inches', 'cough', 'thinly', 'exactly', 'excitement', 'bloody', 'baguette', 'majestically', 'aircrafts', 'armor', 'marathon', 'taxidermy', 'writings', 'frothy', 'filtered', 'algae', 'typewriter', 'deflated', 'indicated', 'rotunda', 'laser', 'squid', 'ripening', 'batman', 'disrepair', 'cubed', '19', 'turtle', 'staning', 'reporters', 'motionless', 'skeleton', 'streaked', 'trial', 'pausing', 'fetch', 'sustenance', 'warmer', 'largest', 'landmark', 'knifes', 'rush', 'duffle', 'glazing', 'diorama', 'spatulas', 'license', 'alaska', 'angles', 'harbour', 'centre', 'lids', 'sisters', 'pumpkins', 'investigates', 'leaguer', 'pontoon', 'cracks', 'ot', 'click', 'shave', 'staples', 'mountaintop', 'gatorade', 'die', 'dice', 'garnishes', 'boeing', 'colt', 'disposable', 'sharpie', 'seattle', 'passanger', 'ballroom', 'notepad', 'slacks', 'sundown', 'venice', 'skulls', 'especially', 'addresses', 'date', 'ladders', 'original', 'prom', 'boxcars', 'steady', 'vegan', 'dalmatian', 'drifting', 'mare', 'winners', 'cooktop', 'pastures', 'exact', 'companions', 'unplugged', 'spill', 'elder', 'lapsed', 'giraff', 'shoving', 'beaten', 'chuck', 'sponge', 'pleased', 'slap', 'pealed', 'sunk', 'ashore', 'netbook', 'modem', 'splits', 'crayons', 'dumping', 'chunky', 'kitcehn', 'squeezed', 'scared', 'tabe', 'juices', 'enters', 'lived', 'hearth', 'exploring', 'wastebasket', 'varied', 'saluting', 'smirk', 'waiters', 'broccolli', 'wrote', 'privacy', 'coco', 'crotch', 'hen', 'passport', 'rollerblading', 'halfpipe', 'casino', 'easter', 'grin', 'smoggy', 'kisses', 'complicated', 'ran', 'dyed', 'sledding', 'scrap', 'director', 'beacon', 'stevens', 'ally', 'coins', 'network', 'conventional', 'provided', 'velvet', 'congress', 'snuggle', 'collected', 'greenhouse', 'demonstrates', 'attempted', 'charcoal', 'chased', 'congratulations', 'sadly', 'waitress', 'artisan', 'disarray', 'cigar', 'loader', 'flushing', 'troop', 'matt', 'proceeds', 'leisurely', 'ducky', 'counting', 'quality', 'utilizing', 'posting', 'guacamole', 'tortoiseshell', 'wallets', 'handbags', 'sporty', 'health', 'grime', 'geek', 'spiral', 'options', 'flesh', 'connects', 'autographs', 'twine', 'nutella', 'rubbish', 'praying', 'bowing', 'lip', 'cradle', 'finds', 'southern', 'squinting', 'beachfront', 'meaty', 'beet', 'choking', 'fierce', 'hummus', 'sparklers', 'pendulum', 'landscaped', 'depiction', 'raincoats', 'vents', 'drape', 'gingerbread', 'ranger', 'perked', 'salon', 'flattened', 'flask', 'tater', 'tots', 'stoops', 'clams', 'cubicles', 'remove', 'iwth', 'prepped', 'bump', 'michigan', 'crumb', 'stain', 'salvation', 'tossed', 'appetizing', 'arrayed', 'outfielder', 'anime', 'dynamite', 'overnight', 'manipulating', 'hikers', 'sydney', 'production', 'chargers', 'ducklings', 'baron', 'mile', 'duct', 'lo', 'moderate', 'restrooms', 'ducking', 'alien', 'tint', 'fitting', 'polish', 'waxed', 'picker', 'problem', 'test', 'pines', 'sunning', 'puzzle', 'sleds', 'surveying', 'colleagues', 'creatively', 'studies', 'skewers', 'curry', 'ponytail', 'toa', 'corgi', 'ciabatta', 'crowns', 'brings', 'venue', 'logging', 'felt', 'shavings', 'cappuccino', 'pretzels', 'intertwined', 'reindeer', 'duvet', 'hippopotamus', 'comfy', 'sprouting', 'nasa', 'gingham', 'courch', 'amusing', 'shelfs', 'paintbrush', 'smooth', 'christ', 'minor', 'clutches', 'strain', 'squadron', 'multistory', 'aging', 'definitely', 'lilac', 'unusually', 'chiquita', 'op', 'plumbing', 'parakeets', 'gesturing', 'postcard', 'collide', 'simultaneously', 'dodge', 'washbasin', 'villa', 'shepard', 'approval', 'boars', 'imitating', 'crawls', 'trucked', 'contentedly', 'sculpted', 'chilled', 'programming', 'nerf', 'armoire', 'taught', 'martini', 'cropped', 'glares', 'volunteer', 'installing', 'entwined', 'minnie', 'decided', 'fifties', 'hurry', 'enthusiasts', 'astride', 'tractors', 'stamp', 'scrubs', 'delivers', 'stagecoach', 'spooning', 'chestnut', 'rifle', 'neckties', 'plater', 'goofing', 'contrail', 'twists', 'lightening', 'vitamins', 'bulb', 'sprayer', 'sip', 'conducting', 'misshapen', 'sundae', 'strokes', 'sandwiched', 'diagonally', 'dollars', 'cents', 'nursery', 'wiht', 'prosciutto', 'southwestern', 'placemats', 'bowel', 'lei', 'dread', 'tandem', 'bales', 'trumpet', 'margarita', 'yourself', 'atlanta', 'curiosity', 'flushed', 'artifacts', 'niche', 'cosmetics', 'imposed', 'folders', 'attractions', 'rowers', 'checkpoint', 'headgear', 'heritage', 'irises', 'mingling', 'pagoda', 'detour', 'executes', 'rafts', 'limousine', 'mangos', 'minnesota', 'creamer', 'messed', 'nw', 'clippings', 'parachuting', 'footprints', 'task', 'protester', 'unkempt', 'movable', 'adidas', 'mower', 'lizard', 'invisible', 'sole', 'insides', 'eyeballs', 'upturned', 'sideboard', 'civil', 'soiled', 'gain', 'dandelion', 'kiwis', 'tapes', 'blues', 'motorhome', 'branded', 'onesie', 'canes', 'dunk', 'dunking', 'idling', 'downstairs', 'dicing', 'raggedy', 'patient', 'quad', 'bandage', 'expert', 'palms', 'mexico', 'roams', 'encased', 'carvings', 'focuses', 'computing', 'wielding', 'shadowed', 'grungy', 'vinyl', 'pyramids', 'swirly', 'lodged', 'plating', 'dont', 'peddling', 'jumble', 'peaked', 'magnifying', 'bmw', 'guardrail', 'bails', 'judged', 'shoeless', 'bleeding', 'windowed', 'lieing', 'contemplates', 'tested', 'kitesurfing', '30th', 'institutional', 'soaps', 'glory', 'gallops', 'happens', 'fettuccine', 'pugs', 'mittens', 'broiled', 'beaded', 'straining', 'thigh', 'chinatown', 'chees', 'feeders', 'skatebaord', 'stooges', 'videos', 'pursuit', 'smith', 'lampshade', 'consume', 'tearing', 'winner', 'triangles', 'meets', 'ibm', 'executing', 'toga', 'response', 'diagram', 'protects', 'snacking', 'vie', 'triumph', 'urine', 'struggling', 'hops', 'overlooked', 'slathered', 'clipboard', 'rivers', 'continues', 'mary', 'crabs', 'nordic', 'kong', 'houseplant', 'closets', 'overheard', 'khakis', 'criss', 'allot', 'icicles', 'ale', 'bubbling', 'collision', 'broadly', 'scratch', '50th', 'scream', 'kingfisher', 'decline', 'inter', 'cacti', 'ambulances', 'obscene', 'peope', 'headdress', 'cologne', 'shaven', 'tempting', 'congratulating', 'instructs', 'ripeness', 'presidents', 'tonight', 'safeway', 'ana', 'inscription', 'wildly', 'camouflaged', 'torches', 'flap', 'pom', 'paused', 'te', 'bovine', 'piping', 'stooping', 'mementos', 'siblings', 'puncher', 'musicians', 'luncheon', 'tun', 'lollipop', 'headlight', 'bourbon', 'gateway', 'swimwear', 'rockefeller', 'loved', 'soapy', 'shear', 'halter', 'copy', 'wayland', 'organizing', 'wizard', 'frilly', 'themself', 'squared', 'choir', 'fishnet', 'clings', 'reef', 'barbershop', 'pinning', 'mouthwash', 'murdered', 'monogrammed', 'jeff', 'shakespeare', 'floss', 'silo', 'plowing', 'gelato', 'ferret', 'confection', 'opportunity', 'runners', 'faint', 'checkout', 'adobe', 'blackberries', 'sumo', 'wrestler', 'nativity', 'clouded', 'unfolded', 'propane', 'yaks', 'trimmings', 'furthest', 'closest', 'nail', 'sync', 'bumps', 'disposal', 'folder', 'mop', 'bodyboarding', 'swimmer', 'challenging', 'appearance', 'souffle', 'hong', 'busily', 'fern', 'fron', 'scoreboard', 'dandelions', 'crinkle', 'oils', 'sewn', 'hippo', 'demonstrate', 'hd', 'manicure', 'prominently', 'cheers', '1971', 'happen', 'links', 'crusts', 'extraordinary', 'combed', 'blindfold', 'hyenas', 'caterpillar', 'derelict', 'wonderland', 'treks', 'constructing', 'octagonal', 'leak', 'again', 'crepes', 'latin', 'bowed', 'kerry', 'forked', 'kilts', 'inset', 'kilt', 'brides', 'rolex', 'buoys', 'bucks', 'modeling', 'canister', 'cheerleader', 'darker', 'wed', 'peal', 'spend', 'cabbages', 'funky', 'oj', 'pebbles', 'collectibles', 'rearing', 'bulldozer', '99', 'talbot', 'stabbed', 'backup', 'zippered', 'dented', 'hangers', 'wrenches', 'alto', 'peacocks', 'skiff', '17', 'afar', 'coupons', 'slug', 'snail', 'valves', 'wreaths', 'mortar', 'deodorant', 'dhl', 'boring', 'calories', 'monopoly', 'cutters', 'porcupine', 'crook', 'leroy', 'saab', '#PAD#', '#UNK#', '#START#', '#END#']\n",
            "8769\n"
          ],
          "name": "stdout"
        }
      ]
    },
    {
      "cell_type": "code",
      "metadata": {
        "ExecuteTime": {
          "end_time": "2017-09-17T14:43:53.206639Z",
          "start_time": "2017-09-17T14:43:44.826028Z"
        },
        "id": "f4sH2ISmAfeg"
      },
      "source": [
        "# replace tokens with indices\n",
        "train_captions_indexed = caption_tokens_to_indices(train_captions, vocab)\n",
        "val_captions_indexed = caption_tokens_to_indices(val_captions, vocab)"
      ],
      "execution_count": 122,
      "outputs": []
    },
    {
      "cell_type": "markdown",
      "metadata": {
        "id": "eTFomF5oAfeg"
      },
      "source": [
        "Captions have different length, but we need to batch them, that's why we will add PAD tokens so that all sentences have an equal length. \n",
        "\n",
        "We will crunch LSTM through all the tokens, but we will ignore padding tokens during loss calculation."
      ]
    },
    {
      "cell_type": "code",
      "metadata": {
        "ExecuteTime": {
          "end_time": "2017-09-17T16:11:52.425546Z",
          "start_time": "2017-09-17T16:11:52.414004Z"
        },
        "id": "NTiJk3k7Afeg"
      },
      "source": [
        "# we will use this during training\n",
        "def batch_captions_to_matrix(batch_captions, pad_idx, max_len=None):\n",
        "    \"\"\"\n",
        "    `batch_captions` is an array of arrays:\n",
        "    [\n",
        "        [vocab[START], ..., vocab[END]],\n",
        "        [vocab[START], ..., vocab[END]],\n",
        "        ...\n",
        "    ]\n",
        "    Put vocabulary indexed captions into np.array of shape (len(batch_captions), columns),\n",
        "        where \"columns\" is max(map(len, batch_captions)) when max_len is None\n",
        "        and \"columns\" = min(max_len, max(map(len, batch_captions))) otherwise.\n",
        "\n",
        "    Add padding with pad_idx where necessary.\n",
        "    Input example: [[1, 2, 3], [4, 5]]\n",
        "    Output example: np.array([[1, 2, 3], [4, 5, pad_idx]]) if max_len=None\n",
        "    Output example: np.array([[1, 2], [4, 5]]) if max_len=2\n",
        "    Output example: np.array([[1, 2, 3], [4, 5, pad_idx]]) if max_len=100\n",
        "    Try to use numpy, we need this function to be fast!\n",
        "    \"\"\"\n",
        "    if max_len is None:\n",
        "      n_columns = max(map(len,batch_captions))\n",
        "    else:\n",
        "      n_columns = min(max_len , max(map(len,batch_captions)) )\n",
        "    matrix = [ arr[:n_columns] if len(arr) >= n_columns else arr+[pad_idx]*(n_columns-len(arr)) for arr in batch_captions]\n",
        "    return np.array(matrix)"
      ],
      "execution_count": 164,
      "outputs": []
    },
    {
      "cell_type": "code",
      "metadata": {
        "id": "5s6EFGsoYZCh",
        "outputId": "acdc8099-e243-461c-ce70-40514b5b3970",
        "colab": {
          "base_uri": "https://localhost:8080/"
        }
      },
      "source": [
        "#TEST BATCH\n",
        "arr = [[1, 2, 3], [4, 5]]\n",
        "print(batch_captions_to_matrix(arr,0))"
      ],
      "execution_count": 165,
      "outputs": [
        {
          "output_type": "stream",
          "text": [
            "[[1 2 3]\n",
            " [4 5 0]]\n"
          ],
          "name": "stdout"
        }
      ]
    },
    {
      "cell_type": "code",
      "metadata": {
        "ExecuteTime": {
          "end_time": "2017-09-17T16:12:02.051692Z",
          "start_time": "2017-09-17T16:12:02.045821Z"
        },
        "id": "2jd13oq8Afeh",
        "outputId": "e50d47ab-d263-4a59-90b2-d5722c25a918",
        "colab": {
          "base_uri": "https://localhost:8080/"
        }
      },
      "source": [
        "## GRADED PART, DO NOT CHANGE!\n",
        "# Vocabulary creation\n",
        "grader.set_answer(\"19Wpv\", grading_utils.test_vocab(vocab, PAD, UNK, START, END))\n",
        "# Captions indexing\n",
        "grader.set_answer(\"uJh73\", grading_utils.test_captions_indexing(train_captions_indexed, vocab, UNK))\n",
        "# Captions batching\n",
        "grader.set_answer(\"yiJkt\", grading_utils.test_captions_batching(batch_captions_to_matrix))"
      ],
      "execution_count": 163,
      "outputs": [
        {
          "output_type": "stream",
          "text": [
            "3\n",
            "2\n",
            "3\n"
          ],
          "name": "stdout"
        }
      ]
    },
    {
      "cell_type": "code",
      "metadata": {
        "id": "VHi1xllKAfeh",
        "outputId": "33c6f760-f0eb-4828-9680-d554c90671a5",
        "colab": {
          "base_uri": "https://localhost:8080/"
        }
      },
      "source": [
        "# you can make submission with answers so far to check yourself at this stage\n",
        "grader.submit(COURSERA_EMAIL, COURSERA_TOKEN)"
      ],
      "execution_count": 168,
      "outputs": [
        {
          "output_type": "stream",
          "text": [
            "Submitted to Coursera platform. See results on assignment page!\n"
          ],
          "name": "stdout"
        }
      ]
    },
    {
      "cell_type": "code",
      "metadata": {
        "id": "14HBqpzfAfei"
      },
      "source": [
        "# make sure you use correct argument in caption_tokens_to_indices\n",
        "assert len(caption_tokens_to_indices(train_captions[:10], vocab)) == 10\n",
        "assert len(caption_tokens_to_indices(train_captions[:5], vocab)) == 5"
      ],
      "execution_count": 167,
      "outputs": []
    },
    {
      "cell_type": "markdown",
      "metadata": {
        "ExecuteTime": {
          "end_time": "2017-08-27T13:34:09.664927Z",
          "start_time": "2017-08-27T13:34:09.662597Z"
        },
        "id": "8rLjNTd6Afei"
      },
      "source": [
        "# Training"
      ]
    },
    {
      "cell_type": "markdown",
      "metadata": {
        "id": "pXcwlTsqAfei"
      },
      "source": [
        "## Define architecture"
      ]
    },
    {
      "cell_type": "markdown",
      "metadata": {
        "id": "OiH6FolGAfej"
      },
      "source": [
        "Since our problem is to generate image captions, RNN text generator should be conditioned on image. The idea is to use image features as an initial state for RNN instead of zeros. \n",
        "\n",
        "Remember that you should transform image feature vector to RNN hidden state size by fully-connected layer and then pass it to RNN.\n",
        "\n",
        "During training we will feed ground truth tokens into the lstm to get predictions of next tokens. \n",
        "\n",
        "Notice that we don't need to feed last token (END) as input (http://cs.stanford.edu/people/karpathy/):\n",
        "\n",
        "<img src=\"https://github.com/hse-aml/intro-to-dl/blob/master/week6/images/encoder_decoder_explained.png?raw=1\" style=\"width:50%\">"
      ]
    },
    {
      "cell_type": "code",
      "metadata": {
        "ExecuteTime": {
          "end_time": "2017-09-17T16:33:04.453351Z",
          "start_time": "2017-09-17T16:33:04.449675Z"
        },
        "id": "Lo9O7AAYAfej"
      },
      "source": [
        "IMG_EMBED_SIZE = train_img_embeds.shape[1]\n",
        "IMG_EMBED_BOTTLENECK = 120\n",
        "WORD_EMBED_SIZE = 100\n",
        "LSTM_UNITS = 300\n",
        "LOGIT_BOTTLENECK = 120\n",
        "pad_idx = vocab[PAD]"
      ],
      "execution_count": null,
      "outputs": []
    },
    {
      "cell_type": "code",
      "metadata": {
        "ExecuteTime": {
          "end_time": "2017-09-17T16:38:46.296544Z",
          "start_time": "2017-09-17T16:38:46.290670Z"
        },
        "id": "YFVq5R19Afej"
      },
      "source": [
        "# remember to reset your graph if you want to start building it from scratch!\n",
        "s = reset_tf_session()\n",
        "tf.set_random_seed(42)"
      ],
      "execution_count": null,
      "outputs": []
    },
    {
      "cell_type": "markdown",
      "metadata": {
        "id": "F7AUFBUyAfej"
      },
      "source": [
        "Here we define decoder graph.\n",
        "\n",
        "We use Keras layers where possible because we can use them in functional style with weights reuse like this:\n",
        "```python\n",
        "dense_layer = L.Dense(42, input_shape=(None, 100) activation='relu')\n",
        "a = tf.placeholder('float32', [None, 100])\n",
        "b = tf.placeholder('float32', [None, 100])\n",
        "dense_layer(a)  # that's how we applied dense layer!\n",
        "dense_layer(b)  # and again\n",
        "```"
      ]
    },
    {
      "cell_type": "markdown",
      "metadata": {
        "id": "xYZHG7LZAfek"
      },
      "source": [
        "Here's a figure to help you with flattening in decoder:\n",
        "<img src=\"https://github.com/hse-aml/intro-to-dl/blob/master/week6/images/flatten_help.jpg?raw=1\" style=\"width:80%\">"
      ]
    },
    {
      "cell_type": "code",
      "metadata": {
        "ExecuteTime": {
          "end_time": "2017-09-17T16:38:48.300312Z",
          "start_time": "2017-09-17T16:38:48.128590Z"
        },
        "id": "RSryk-ffAfek"
      },
      "source": [
        "class decoder:\n",
        "    # [batch_size, IMG_EMBED_SIZE] of CNN image features\n",
        "    img_embeds = tf.placeholder('float32', [None, IMG_EMBED_SIZE])\n",
        "    # [batch_size, time steps] of word ids\n",
        "    sentences = tf.placeholder('int32', [None, None])\n",
        "    \n",
        "    # we use bottleneck here to reduce the number of parameters\n",
        "    # image embedding -> bottleneck\n",
        "    img_embed_to_bottleneck = L.Dense(IMG_EMBED_BOTTLENECK, \n",
        "                                      input_shape=(None, IMG_EMBED_SIZE), \n",
        "                                      activation='elu')\n",
        "    # image embedding bottleneck -> lstm initial state\n",
        "    img_embed_bottleneck_to_h0 = L.Dense(LSTM_UNITS,\n",
        "                                         input_shape=(None, IMG_EMBED_BOTTLENECK),\n",
        "                                         activation='elu')\n",
        "    # word -> embedding\n",
        "    word_embed = L.Embedding(len(vocab), WORD_EMBED_SIZE)\n",
        "    # lstm cell (from tensorflow)\n",
        "    lstm = tf.nn.rnn_cell.LSTMCell(LSTM_UNITS)\n",
        "    \n",
        "    # we use bottleneck here to reduce model complexity\n",
        "    # lstm output -> logits bottleneck\n",
        "    token_logits_bottleneck = L.Dense(LOGIT_BOTTLENECK, \n",
        "                                      input_shape=(None, LSTM_UNITS),\n",
        "                                      activation=\"elu\")\n",
        "    # logits bottleneck -> logits for next token prediction\n",
        "    token_logits = L.Dense(len(vocab),\n",
        "                           input_shape=(None, LOGIT_BOTTLENECK))\n",
        "    \n",
        "    # initial lstm cell state of shape (None, LSTM_UNITS),\n",
        "    # we need to condition it on `img_embeds` placeholder.\n",
        "    c0 = h0 = ### YOUR CODE HERE ###\n",
        "\n",
        "    # embed all tokens but the last for lstm input,\n",
        "    # remember that L.Embedding is callable,\n",
        "    # use `sentences` placeholder as input.\n",
        "    word_embeds = ### YOUR CODE HERE ###\n",
        "    \n",
        "    # during training we use ground truth tokens `word_embeds` as context for next token prediction.\n",
        "    # that means that we know all the inputs for our lstm and can get \n",
        "    # all the hidden states with one tensorflow operation (tf.nn.dynamic_rnn).\n",
        "    # `hidden_states` has a shape of [batch_size, time steps, LSTM_UNITS].\n",
        "    hidden_states, _ = tf.nn.dynamic_rnn(lstm, word_embeds,\n",
        "                                         initial_state=tf.nn.rnn_cell.LSTMStateTuple(c0, h0))\n",
        "\n",
        "    # now we need to calculate token logits for all the hidden states\n",
        "    \n",
        "    # first, we reshape `hidden_states` to [-1, LSTM_UNITS]\n",
        "    flat_hidden_states = ### YOUR CODE HERE ###\n",
        "\n",
        "    # then, we calculate logits for next tokens using `token_logits_bottleneck` and `token_logits` layers\n",
        "    flat_token_logits = ### YOUR CODE HERE ###\n",
        "    \n",
        "    # then, we flatten the ground truth token ids.\n",
        "    # remember, that we predict next tokens for each time step,\n",
        "    # use `sentences` placeholder.\n",
        "    flat_ground_truth = ### YOUR CODE HERE ###\n",
        "\n",
        "    # we need to know where we have real tokens (not padding) in `flat_ground_truth`,\n",
        "    # we don't want to propagate the loss for padded output tokens,\n",
        "    # fill `flat_loss_mask` with 1.0 for real tokens (not pad_idx) and 0.0 otherwise.\n",
        "    flat_loss_mask = ### YOUR CODE HERE ###\n",
        "\n",
        "    # compute cross-entropy between `flat_ground_truth` and `flat_token_logits` predicted by lstm\n",
        "    xent = tf.nn.sparse_softmax_cross_entropy_with_logits(\n",
        "        labels=flat_ground_truth, \n",
        "        logits=flat_token_logits\n",
        "    )\n",
        "\n",
        "    # compute average `xent` over tokens with nonzero `flat_loss_mask`.\n",
        "    # we don't want to account misclassification of PAD tokens, because that doesn't make sense,\n",
        "    # we have PAD tokens for batching purposes only!\n",
        "    loss = ### YOUR CODE HERE ###"
      ],
      "execution_count": null,
      "outputs": []
    },
    {
      "cell_type": "code",
      "metadata": {
        "id": "L1Ye9R-ZAfek"
      },
      "source": [
        "# define optimizer operation to minimize the loss\n",
        "optimizer = tf.train.AdamOptimizer(learning_rate=0.001)\n",
        "train_step = optimizer.minimize(decoder.loss)\n",
        "\n",
        "# will be used to save/load network weights.\n",
        "# you need to reset your default graph and define it in the same way to be able to load the saved weights!\n",
        "saver = tf.train.Saver()\n",
        "\n",
        "# intialize all variables\n",
        "s.run(tf.global_variables_initializer())"
      ],
      "execution_count": null,
      "outputs": []
    },
    {
      "cell_type": "code",
      "metadata": {
        "id": "0nXh371CAfel"
      },
      "source": [
        "## GRADED PART, DO NOT CHANGE!\n",
        "# Decoder shapes test\n",
        "grader.set_answer(\"rbpnH\", grading_utils.test_decoder_shapes(decoder, IMG_EMBED_SIZE, vocab, s))\n",
        "# Decoder random loss test\n",
        "grader.set_answer(\"E2OIL\", grading_utils.test_random_decoder_loss(decoder, IMG_EMBED_SIZE, vocab, s))"
      ],
      "execution_count": null,
      "outputs": []
    },
    {
      "cell_type": "code",
      "metadata": {
        "id": "TkZkCltHAfel"
      },
      "source": [
        "# you can make submission with answers so far to check yourself at this stage\n",
        "grader.submit(COURSERA_EMAIL, COURSERA_TOKEN)"
      ],
      "execution_count": null,
      "outputs": []
    },
    {
      "cell_type": "markdown",
      "metadata": {
        "id": "kmNz1IlIAfel"
      },
      "source": [
        "## Training loop\n",
        "Evaluate train and validation metrics through training and log them. Ensure that loss decreases."
      ]
    },
    {
      "cell_type": "code",
      "metadata": {
        "ExecuteTime": {
          "end_time": "2017-09-17T14:43:59.397913Z",
          "start_time": "2017-09-17T14:43:58.913391Z"
        },
        "id": "0V3Xgbr5Afel"
      },
      "source": [
        "train_captions_indexed = np.array(train_captions_indexed)\n",
        "val_captions_indexed = np.array(val_captions_indexed)"
      ],
      "execution_count": null,
      "outputs": []
    },
    {
      "cell_type": "code",
      "metadata": {
        "ExecuteTime": {
          "end_time": "2017-09-17T14:43:59.529548Z",
          "start_time": "2017-09-17T14:43:59.399567Z"
        },
        "id": "OoPUVTcXAfen"
      },
      "source": [
        "# generate batch via random sampling of images and captions for them,\n",
        "# we use `max_len` parameter to control the length of the captions (truncating long captions)\n",
        "def generate_batch(images_embeddings, indexed_captions, batch_size, max_len=None):\n",
        "    \"\"\"\n",
        "    `images_embeddings` is a np.array of shape [number of images, IMG_EMBED_SIZE].\n",
        "    `indexed_captions` holds 5 vocabulary indexed captions for each image:\n",
        "    [\n",
        "        [\n",
        "            [vocab[START], vocab[\"image1\"], vocab[\"caption1\"], vocab[END]],\n",
        "            [vocab[START], vocab[\"image1\"], vocab[\"caption2\"], vocab[END]],\n",
        "            ...\n",
        "        ],\n",
        "        ...\n",
        "    ]\n",
        "    Generate a random batch of size `batch_size`.\n",
        "    Take random images and choose one random caption for each image.\n",
        "    Remember to use `batch_captions_to_matrix` for padding and respect `max_len` parameter.\n",
        "    Return feed dict {decoder.img_embeds: ..., decoder.sentences: ...}.\n",
        "    \"\"\"\n",
        "    batch_image_embeddings = ### YOUR CODE HERE ###\n",
        "    \n",
        "    batch_captions_matrix = ### YOUR CODE HERE ###\n",
        "    \n",
        "    return {decoder.img_embeds: batch_image_embeddings, \n",
        "            decoder.sentences: batch_captions_matrix}"
      ],
      "execution_count": null,
      "outputs": []
    },
    {
      "cell_type": "code",
      "metadata": {
        "ExecuteTime": {
          "end_time": "2017-09-17T14:44:00.437338Z",
          "start_time": "2017-09-17T14:44:00.434472Z"
        },
        "id": "Dm37zsNVAfeo"
      },
      "source": [
        "batch_size = 64\n",
        "n_epochs = 12\n",
        "n_batches_per_epoch = 1000\n",
        "n_validation_batches = 100  # how many batches are used for validation after each epoch"
      ],
      "execution_count": null,
      "outputs": []
    },
    {
      "cell_type": "code",
      "metadata": {
        "ExecuteTime": {
          "end_time": "2017-09-17T14:44:01.497022Z",
          "start_time": "2017-09-17T14:44:00.962013Z"
        },
        "id": "b-V8zgu-Afer"
      },
      "source": [
        "# you can load trained weights here\n",
        "# uncomment the next line if you need to load weights\n",
        "# saver.restore(s, get_checkpoint_path(epoch=4))"
      ],
      "execution_count": null,
      "outputs": []
    },
    {
      "cell_type": "markdown",
      "metadata": {
        "id": "4P3utvwDAfer"
      },
      "source": [
        "Look at the training and validation loss, they should be decreasing!"
      ]
    },
    {
      "cell_type": "code",
      "metadata": {
        "ExecuteTime": {
          "end_time": "2017-09-17T12:42:16.120494Z",
          "start_time": "2017-09-17T12:31:03.779162Z"
        },
        "scrolled": true,
        "id": "E8tstLwIAfes"
      },
      "source": [
        "# actual training loop\n",
        "MAX_LEN = 20  # truncate long captions to speed up training\n",
        "\n",
        "# to make training reproducible\n",
        "np.random.seed(42)\n",
        "random.seed(42)\n",
        "\n",
        "for epoch in range(n_epochs):\n",
        "    \n",
        "    train_loss = 0\n",
        "    pbar = tqdm_utils.tqdm_notebook_failsafe(range(n_batches_per_epoch))\n",
        "    counter = 0\n",
        "    for _ in pbar:\n",
        "        train_loss += s.run([decoder.loss, train_step], \n",
        "                            generate_batch(train_img_embeds, \n",
        "                                           train_captions_indexed, \n",
        "                                           batch_size, \n",
        "                                           MAX_LEN))[0]\n",
        "        counter += 1\n",
        "        pbar.set_description(\"Training loss: %f\" % (train_loss / counter))\n",
        "        \n",
        "    train_loss /= n_batches_per_epoch\n",
        "    \n",
        "    val_loss = 0\n",
        "    for _ in range(n_validation_batches):\n",
        "        val_loss += s.run(decoder.loss, generate_batch(val_img_embeds,\n",
        "                                                       val_captions_indexed, \n",
        "                                                       batch_size, \n",
        "                                                       MAX_LEN))\n",
        "    val_loss /= n_validation_batches\n",
        "    \n",
        "    print('Epoch: {}, train loss: {}, val loss: {}'.format(epoch, train_loss, val_loss))\n",
        "\n",
        "    # save weights after finishing epoch\n",
        "    saver.save(s, get_checkpoint_path(epoch))\n",
        "    \n",
        "print(\"Finished!\")"
      ],
      "execution_count": null,
      "outputs": []
    },
    {
      "cell_type": "code",
      "metadata": {
        "id": "auvMYaHdAfes"
      },
      "source": [
        "## GRADED PART, DO NOT CHANGE!\n",
        "# Validation loss\n",
        "grader.set_answer(\"YJR7z\", grading_utils.test_validation_loss(\n",
        "    decoder, s, generate_batch, val_img_embeds, val_captions_indexed))"
      ],
      "execution_count": null,
      "outputs": []
    },
    {
      "cell_type": "code",
      "metadata": {
        "id": "q1Eb3HmjAfes"
      },
      "source": [
        "# you can make submission with answers so far to check yourself at this stage\n",
        "grader.submit(COURSERA_EMAIL, COURSERA_TOKEN)"
      ],
      "execution_count": null,
      "outputs": []
    },
    {
      "cell_type": "code",
      "metadata": {
        "ExecuteTime": {
          "end_time": "2017-09-17T12:42:16.399349Z",
          "start_time": "2017-09-17T12:42:16.122158Z"
        },
        "id": "cUFoITgQAfet"
      },
      "source": [
        "# check that it's learnt something, outputs accuracy of next word prediction (should be around 0.5)\n",
        "from sklearn.metrics import accuracy_score, log_loss\n",
        "\n",
        "def decode_sentence(sentence_indices):\n",
        "    return \" \".join(list(map(vocab_inverse.get, sentence_indices)))\n",
        "\n",
        "def check_after_training(n_examples):\n",
        "    fd = generate_batch(train_img_embeds, train_captions_indexed, batch_size)\n",
        "    logits = decoder.flat_token_logits.eval(fd)\n",
        "    truth = decoder.flat_ground_truth.eval(fd)\n",
        "    mask = decoder.flat_loss_mask.eval(fd).astype(bool)\n",
        "    print(\"Loss:\", decoder.loss.eval(fd))\n",
        "    print(\"Accuracy:\", accuracy_score(logits.argmax(axis=1)[mask], truth[mask]))\n",
        "    for example_idx in range(n_examples):\n",
        "        print(\"Example\", example_idx)\n",
        "        print(\"Predicted:\", decode_sentence(logits.argmax(axis=1).reshape((batch_size, -1))[example_idx]))\n",
        "        print(\"Truth:\", decode_sentence(truth.reshape((batch_size, -1))[example_idx]))\n",
        "        print(\"\")\n",
        "\n",
        "check_after_training(3)"
      ],
      "execution_count": null,
      "outputs": []
    },
    {
      "cell_type": "code",
      "metadata": {
        "ExecuteTime": {
          "end_time": "2017-09-17T12:42:16.535481Z",
          "start_time": "2017-09-17T12:42:16.400830Z"
        },
        "id": "yOjIEA2-Afet"
      },
      "source": [
        "# save last graph weights to file!\n",
        "saver.save(s, get_checkpoint_path())"
      ],
      "execution_count": null,
      "outputs": []
    },
    {
      "cell_type": "markdown",
      "metadata": {
        "id": "x3jbPS0SAfeu"
      },
      "source": [
        "# Applying model\n",
        "\n",
        "Here we construct a graph for our final model.\n",
        "\n",
        "It will work as follows:\n",
        "- take an image as an input and embed it\n",
        "- condition lstm on that embedding\n",
        "- predict the next token given a START input token\n",
        "- use predicted token as an input at next time step\n",
        "- iterate until you predict an END token"
      ]
    },
    {
      "cell_type": "code",
      "metadata": {
        "ExecuteTime": {
          "end_time": "2017-09-17T14:44:22.546086Z",
          "start_time": "2017-09-17T14:44:16.029331Z"
        },
        "id": "VmGVC5omAfeu"
      },
      "source": [
        "class final_model:\n",
        "    # CNN encoder\n",
        "    encoder, preprocess_for_model = get_cnn_encoder()\n",
        "    saver.restore(s, get_checkpoint_path())  # keras applications corrupt our graph, so we restore trained weights\n",
        "    \n",
        "    # containers for current lstm state\n",
        "    lstm_c = tf.Variable(tf.zeros([1, LSTM_UNITS]), name=\"cell\")\n",
        "    lstm_h = tf.Variable(tf.zeros([1, LSTM_UNITS]), name=\"hidden\")\n",
        "\n",
        "    # input images\n",
        "    input_images = tf.placeholder('float32', [1, IMG_SIZE, IMG_SIZE, 3], name='images')\n",
        "\n",
        "    # get image embeddings\n",
        "    img_embeds = encoder(input_images)\n",
        "\n",
        "    # initialize lstm state conditioned on image\n",
        "    init_c = init_h = decoder.img_embed_bottleneck_to_h0(decoder.img_embed_to_bottleneck(img_embeds))\n",
        "    init_lstm = tf.assign(lstm_c, init_c), tf.assign(lstm_h, init_h)\n",
        "    \n",
        "    # current word index\n",
        "    current_word = tf.placeholder('int32', [1], name='current_input')\n",
        "\n",
        "    # embedding for current word\n",
        "    word_embed = decoder.word_embed(current_word)\n",
        "\n",
        "    # apply lstm cell, get new lstm states\n",
        "    new_c, new_h = decoder.lstm(word_embed, tf.nn.rnn_cell.LSTMStateTuple(lstm_c, lstm_h))[1]\n",
        "\n",
        "    # compute logits for next token\n",
        "    new_logits = decoder.token_logits(decoder.token_logits_bottleneck(new_h))\n",
        "    # compute probabilities for next token\n",
        "    new_probs = tf.nn.softmax(new_logits)\n",
        "\n",
        "    # `one_step` outputs probabilities of next token and updates lstm hidden state\n",
        "    one_step = new_probs, tf.assign(lstm_c, new_c), tf.assign(lstm_h, new_h)"
      ],
      "execution_count": null,
      "outputs": []
    },
    {
      "cell_type": "code",
      "metadata": {
        "ExecuteTime": {
          "end_time": "2017-09-17T17:27:17.828681Z",
          "start_time": "2017-09-17T17:27:17.820029Z"
        },
        "id": "NhI68w4zAfev"
      },
      "source": [
        "# look at how temperature works for probability distributions\n",
        "# for high temperature we have more uniform distribution\n",
        "_ = np.array([0.5, 0.4, 0.1])\n",
        "for t in [0.01, 0.1, 1, 10, 100]:\n",
        "    print(\" \".join(map(str, _**(1/t) / np.sum(_**(1/t)))), \"with temperature\", t)"
      ],
      "execution_count": null,
      "outputs": []
    },
    {
      "cell_type": "code",
      "metadata": {
        "ExecuteTime": {
          "end_time": "2017-09-17T14:44:22.575410Z",
          "start_time": "2017-09-17T14:44:22.547785Z"
        },
        "id": "PYFtsrl9Afev"
      },
      "source": [
        "# this is an actual prediction loop\n",
        "def generate_caption(image, t=1, sample=False, max_len=20):\n",
        "    \"\"\"\n",
        "    Generate caption for given image.\n",
        "    if `sample` is True, we will sample next token from predicted probability distribution.\n",
        "    `t` is a temperature during that sampling,\n",
        "        higher `t` causes more uniform-like distribution = more chaos.\n",
        "    \"\"\"\n",
        "    # condition lstm on the image\n",
        "    s.run(final_model.init_lstm, \n",
        "          {final_model.input_images: [image]})\n",
        "    \n",
        "    # current caption\n",
        "    # start with only START token\n",
        "    caption = [vocab[START]]\n",
        "    \n",
        "    for _ in range(max_len):\n",
        "        next_word_probs = s.run(final_model.one_step, \n",
        "                                {final_model.current_word: [caption[-1]]})[0]\n",
        "        next_word_probs = next_word_probs.ravel()\n",
        "        \n",
        "        # apply temperature\n",
        "        next_word_probs = next_word_probs**(1/t) / np.sum(next_word_probs**(1/t))\n",
        "\n",
        "        if sample:\n",
        "            next_word = np.random.choice(range(len(vocab)), p=next_word_probs)\n",
        "        else:\n",
        "            next_word = np.argmax(next_word_probs)\n",
        "\n",
        "        caption.append(next_word)\n",
        "        if next_word == vocab[END]:\n",
        "            break\n",
        "       \n",
        "    return list(map(vocab_inverse.get, caption))"
      ],
      "execution_count": null,
      "outputs": []
    },
    {
      "cell_type": "code",
      "metadata": {
        "ExecuteTime": {
          "end_time": "2017-09-17T17:44:15.525786Z",
          "start_time": "2017-09-17T17:44:15.238979Z"
        },
        "id": "Bu3lZj50Afev"
      },
      "source": [
        "# look at validation prediction example\n",
        "def apply_model_to_image_raw_bytes(raw):\n",
        "    img = utils.decode_image_from_buf(raw)\n",
        "    fig = plt.figure(figsize=(7, 7))\n",
        "    plt.grid('off')\n",
        "    plt.axis('off')\n",
        "    plt.imshow(img)\n",
        "    img = utils.crop_and_preprocess(img, (IMG_SIZE, IMG_SIZE), final_model.preprocess_for_model)\n",
        "    print(' '.join(generate_caption(img)[1:-1]))\n",
        "    plt.show()\n",
        "\n",
        "def show_valid_example(val_img_fns, example_idx=0):\n",
        "    zf = zipfile.ZipFile(\"val2014_sample.zip\")\n",
        "    all_files = set(val_img_fns)\n",
        "    found_files = list(filter(lambda x: x.filename.rsplit(\"/\")[-1] in all_files, zf.filelist))\n",
        "    example = found_files[example_idx]\n",
        "    apply_model_to_image_raw_bytes(zf.read(example))\n",
        "    \n",
        "show_valid_example(val_img_fns, example_idx=100)"
      ],
      "execution_count": null,
      "outputs": []
    },
    {
      "cell_type": "code",
      "metadata": {
        "ExecuteTime": {
          "end_time": "2017-09-17T15:07:47.191185Z",
          "start_time": "2017-09-17T15:06:44.121069Z"
        },
        "scrolled": true,
        "id": "sCGieduuAfev"
      },
      "source": [
        "# sample more images from validation\n",
        "for idx in np.random.choice(range(len(zipfile.ZipFile(\"val2014_sample.zip\").filelist) - 1), 10):\n",
        "    show_valid_example(val_img_fns, example_idx=idx)\n",
        "    time.sleep(1)"
      ],
      "execution_count": null,
      "outputs": []
    },
    {
      "cell_type": "markdown",
      "metadata": {
        "id": "gw6Uhnm-Afew"
      },
      "source": [
        "You can download any image from the Internet and appply your model to it!"
      ]
    },
    {
      "cell_type": "code",
      "metadata": {
        "ExecuteTime": {
          "end_time": "2017-09-17T17:42:56.055265Z",
          "start_time": "2017-09-17T17:42:54.242164Z"
        },
        "id": "tQ59J1HNAfew"
      },
      "source": [
        "download_utils.download_file(\n",
        "    \"http://www.bijouxandbits.com/wp-content/uploads/2016/06/portal-cake-10.jpg\",\n",
        "    \"portal-cake-10.jpg\"\n",
        ")"
      ],
      "execution_count": null,
      "outputs": []
    },
    {
      "cell_type": "code",
      "metadata": {
        "id": "Zf1h_GurAfew"
      },
      "source": [
        "apply_model_to_image_raw_bytes(open(\"portal-cake-10.jpg\", \"rb\").read())"
      ],
      "execution_count": null,
      "outputs": []
    },
    {
      "cell_type": "markdown",
      "metadata": {
        "ExecuteTime": {
          "end_time": "2017-09-24T12:34:10.689158Z",
          "start_time": "2017-09-24T12:34:10.675938Z"
        },
        "id": "ErzHvNF5Afew"
      },
      "source": [
        "Now it's time to find 10 examples where your model works good and 10 examples where it fails! \n",
        "\n",
        "You can use images from validation set as follows:\n",
        "```python\n",
        "show_valid_example(val_img_fns, example_idx=...)\n",
        "```\n",
        "\n",
        "You can use images from the Internet as follows:\n",
        "```python\n",
        "! wget ...\n",
        "apply_model_to_image_raw_bytes(open(\"...\", \"rb\").read())\n",
        "```\n",
        "\n",
        "If you use these functions, the output will be embedded into your notebook and will be visible during peer review!\n",
        "\n",
        "When you're done, download your noteboook using \"File\" -> \"Download as\" -> \"Notebook\" and prepare that file for peer review!"
      ]
    },
    {
      "cell_type": "code",
      "metadata": {
        "id": "9liz8gxTAfew"
      },
      "source": [
        "### YOUR EXAMPLES HERE ###"
      ],
      "execution_count": null,
      "outputs": []
    },
    {
      "cell_type": "markdown",
      "metadata": {
        "ExecuteTime": {
          "end_time": "2017-09-24T12:34:25.055581Z",
          "start_time": "2017-09-24T12:34:25.052373Z"
        },
        "id": "YgzS_49iAfex"
      },
      "source": [
        "That's it! \n",
        "\n",
        "Congratulations, you've trained your image captioning model and now can produce captions for any picture from the  Internet!"
      ]
    }
  ]
}