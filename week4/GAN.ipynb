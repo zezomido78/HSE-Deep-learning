{
  "nbformat": 4,
  "nbformat_minor": 0,
  "metadata": {
    "colab": {
      "name": "Untitled2.ipynb",
      "provenance": [],
      "authorship_tag": "ABX9TyOzYYAPtqwbWUZiZiqSBwxk",
      "include_colab_link": true
    },
    "kernelspec": {
      "name": "python3",
      "display_name": "Python 3"
    },
    "language_info": {
      "name": "python"
    },
    "accelerator": "GPU"
  },
  "cells": [
    {
      "cell_type": "markdown",
      "metadata": {
        "id": "view-in-github",
        "colab_type": "text"
      },
      "source": [
        "<a href=\"https://colab.research.google.com/github/zezomido78/HSE-Deep-learning/blob/main/week4/GAN.ipynb\" target=\"_parent\"><img src=\"https://colab.research.google.com/assets/colab-badge.svg\" alt=\"Open In Colab\"/></a>"
      ]
    },
    {
      "cell_type": "code",
      "metadata": {
        "colab": {
          "base_uri": "https://localhost:8080/"
        },
        "id": "dJu-nqH8hZEY",
        "outputId": "2d8013f1-d807-4014-905e-923946a756dd"
      },
      "source": [
        "! shred -u setup_google_colab.py\n",
        "! wget https://raw.githubusercontent.com/hse-aml/intro-to-dl/master/setup_google_colab.py -O setup_google_colab.py\n",
        "import setup_google_colab\n",
        "# please, uncomment the week you're working on\n",
        "# setup_google_colab.setup_week1()\n",
        "# setup_google_colab.setup_week2()\n",
        "# setup_google_colab.setup_week2_honor()\n",
        "# setup_google_colab.setup_week3()\n",
        "setup_google_colab.setup_week4()\n",
        "# setup_google_colab.setup_week5()\n",
        "# setup_google_colab.setup_week6()"
      ],
      "execution_count": 5,
      "outputs": [
        {
          "output_type": "stream",
          "text": [
            "--2021-08-04 14:19:35--  https://raw.githubusercontent.com/hse-aml/intro-to-dl/master/setup_google_colab.py\n",
            "Resolving raw.githubusercontent.com (raw.githubusercontent.com)... 185.199.108.133, 185.199.109.133, 185.199.110.133, ...\n",
            "Connecting to raw.githubusercontent.com (raw.githubusercontent.com)|185.199.108.133|:443... connected.\n",
            "HTTP request sent, awaiting response... 200 OK\n",
            "Length: 3636 (3.6K) [text/plain]\n",
            "Saving to: ‘setup_google_colab.py’\n",
            "\n",
            "\rsetup_google_colab.   0%[                    ]       0  --.-KB/s               \rsetup_google_colab. 100%[===================>]   3.55K  --.-KB/s    in 0s      \n",
            "\n",
            "2021-08-04 14:19:35 (61.3 MB/s) - ‘setup_google_colab.py’ saved [3636/3636]\n",
            "\n",
            "**************************************************\n",
            "lfw-deepfunneled.tgz\n",
            "**************************************************\n",
            "lfw.tgz\n",
            "**************************************************\n",
            "lfw_attributes.txt\n"
          ],
          "name": "stdout"
        }
      ]
    },
    {
      "cell_type": "code",
      "metadata": {
        "id": "EcrpgDXBhbIA"
      },
      "source": [
        "import sys\n",
        "sys.path.append(\"..\")\n",
        "\n",
        "import grading\n",
        "import download_utils\n",
        "import tqdm_utils"
      ],
      "execution_count": 3,
      "outputs": []
    },
    {
      "cell_type": "code",
      "metadata": {
        "colab": {
          "base_uri": "https://localhost:8080/"
        },
        "id": "AgHE4eBUihXo",
        "outputId": "f06afe21-8332-45ae-a333-f253945bfe33"
      },
      "source": [
        "sys.path.append(\"/readonly/week4\")\n",
        "print(sys.path)\n"
      ],
      "execution_count": 9,
      "outputs": [
        {
          "output_type": "stream",
          "text": [
            "['', '/content', '/env/python', '/usr/lib/python37.zip', '/usr/lib/python3.7', '/usr/lib/python3.7/lib-dynload', '/usr/local/lib/python3.7/dist-packages', '/usr/lib/python3/dist-packages', '/usr/local/lib/python3.7/dist-packages/IPython/extensions', '/root/.ipython', '..', '..', '/readonly/week4', '/readonly/week4']\n"
          ],
          "name": "stdout"
        }
      ]
    },
    {
      "cell_type": "code",
      "metadata": {
        "id": "Q22o_LEEh-Y_"
      },
      "source": [
        "from IPython import display\n",
        "from matplotlib import pyplot as plt\n",
        "import numpy as np\n",
        "import os\n",
        "import pandas as pd\n",
        "from skimage.transform import resize\n",
        "import tarfile\n",
        "\n",
        "import tensorflow as tf\n",
        "from tensorflow import keras\n",
        "from tensorflow.keras import activations, layers, losses, optimizers, regularizers"
      ],
      "execution_count": 20,
      "outputs": []
    },
    {
      "cell_type": "code",
      "metadata": {
        "id": "bibmdqVFjmUq"
      },
      "source": [
        "def progress(iterable, every=1):\n",
        "    for index, item in enumerate(iterable):\n",
        "        if index % every == 0: print(\"*\", end=\"\")\n",
        "        yield item\n",
        "    print(\".\")\n",
        "\n",
        "def read_images(arch_path, crop_x=80, crop_y=80, size_x=90, size_y=90):\n",
        "    with tarfile.open(arch_path) as arch:\n",
        "        for entry in arch.getmembers():\n",
        "            if entry.isfile() and entry.name.endswith(\".jpg\"):\n",
        "                image = plt.imread(arch.extractfile(entry))\n",
        "                image = image[crop_x : -crop_x, crop_y : -crop_y, : ]\n",
        "                image = resize(image, (size_x, size_y))\n",
        "                yield image"
      ],
      "execution_count": 21,
      "outputs": []
    },
    {
      "cell_type": "code",
      "metadata": {
        "colab": {
          "base_uri": "https://localhost:8080/"
        },
        "id": "4rTZWLZLj4qQ",
        "outputId": "82a115b9-6494-48f0-ef8d-18ca9d5247c2"
      },
      "source": [
        "lfw_url = \"http://vis-www.cs.umass.edu/lfw/lfw-deepfunneled.tgz\"\n",
        "lfw_path = \"lfw-deepfunneled.tgz\"\n",
        "\n",
        "keras.utils.get_file(lfw_path, lfw_url, cache_dir=\".\", cache_subdir=\"\")\n",
        "\n",
        "print(\"Extracting images: \", end=\"\")\n",
        "data = np.float32([ image for image in progress(read_images(lfw_path, size_x=36, size_y=36), every=200) ])"
      ],
      "execution_count": 22,
      "outputs": [
        {
          "output_type": "stream",
          "text": [
            "Extracting images: *******************************************************************.\n"
          ],
          "name": "stdout"
        }
      ]
    },
    {
      "cell_type": "code",
      "metadata": {
        "colab": {
          "base_uri": "https://localhost:8080/",
          "height": 317
        },
        "id": "YEY8lOrSj9W0",
        "outputId": "63baf121-8bca-4c56-e4b4-03bdb259657b"
      },
      "source": [
        "IMAGE_SHAPE = data.shape[1 : ]\n",
        "\n",
        "print(\"Image shape :\", IMAGE_SHAPE)\n",
        "print(\"Total images:\", len(data))\n",
        "\n",
        "plt.imshow(data[ np.random.randint(len(data)) ])"
      ],
      "execution_count": 60,
      "outputs": [
        {
          "output_type": "stream",
          "text": [
            "Image shape : (36, 36, 3)\n",
            "Total images: 13233\n"
          ],
          "name": "stdout"
        },
        {
          "output_type": "execute_result",
          "data": {
            "text/plain": [
              "<matplotlib.image.AxesImage at 0x7f168038ba10>"
            ]
          },
          "metadata": {
            "tags": []
          },
          "execution_count": 60
        },
        {
          "output_type": "display_data",
          "data": {
            "image/png": "[encoded data removed]",
            "text/plain": [
              "<Figure size 432x288 with 1 Axes>"
            ]
          },
          "metadata": {
            "tags": [],
            "needs_background": "light"
          }
        }
      ]
    },
    {
      "cell_type": "code",
      "metadata": {
        "colab": {
          "base_uri": "https://localhost:8080/"
        },
        "id": "mYw8neG2kozx",
        "outputId": "24626e95-a007-47d5-aa0d-f2f2e8ad4085"
      },
      "source": [
        "CODE_SIZE = 256\n",
        "def create_generator():\n",
        "  return keras.Sequential([\n",
        "                    layers.InputLayer(input_shape=(CODE_SIZE,),name=\"noise\"),\n",
        "                    layers.Dense(units= 10 * 8 * 8,activation=\"elu\"),\n",
        "                    layers.Reshape(target_shape=(8,8,10)),\n",
        "                    layers.Conv2DTranspose(64,kernel_size=(5,5),strides=(1,1),activation=\"elu\"),\n",
        "                    layers.Conv2DTranspose(64,kernel_size=(5,5),strides=(1,1),activation=\"elu\"),\n",
        "                    layers.UpSampling2D(size=(2,2)),\n",
        "                    layers.Conv2DTranspose(32,kernel_size=(3,3),strides=(1,1),activation=\"elu\"),\n",
        "                    layers.Conv2DTranspose(32,kernel_size=(3,3),strides=(1,1),activation=\"elu\"),\n",
        "                    layers.Conv2DTranspose(32,kernel_size=(3,3),strides=(1,1),activation=\"elu\"),\n",
        "                    layers.Conv2D(3,kernel_size=(3,3),strides=(1,1),activation=None)\n",
        "\n",
        "  ],name=\"generator\")\n",
        "generator = create_generator()\n",
        "generator.summary()"
      ],
      "execution_count": 51,
      "outputs": [
        {
          "output_type": "stream",
          "text": [
            "Model: \"generator\"\n",
            "_________________________________________________________________\n",
            "Layer (type)                 Output Shape              Param #   \n",
            "=================================================================\n",
            "dense_2 (Dense)              (None, 640)               164480    \n",
            "_________________________________________________________________\n",
            "reshape_2 (Reshape)          (None, 8, 8, 10)          0         \n",
            "_________________________________________________________________\n",
            "conv2d_transpose_10 (Conv2DT (None, 12, 12, 64)        16064     \n",
            "_________________________________________________________________\n",
            "conv2d_transpose_11 (Conv2DT (None, 16, 16, 64)        102464    \n",
            "_________________________________________________________________\n",
            "up_sampling2d_1 (UpSampling2 (None, 32, 32, 64)        0         \n",
            "_________________________________________________________________\n",
            "conv2d_transpose_12 (Conv2DT (None, 34, 34, 32)        18464     \n",
            "_________________________________________________________________\n",
            "conv2d_transpose_13 (Conv2DT (None, 36, 36, 32)        9248      \n",
            "_________________________________________________________________\n",
            "conv2d_transpose_14 (Conv2DT (None, 38, 38, 32)        9248      \n",
            "_________________________________________________________________\n",
            "conv2d_4 (Conv2D)            (None, 36, 36, 3)         867       \n",
            "=================================================================\n",
            "Total params: 320,835\n",
            "Trainable params: 320,835\n",
            "Non-trainable params: 0\n",
            "_________________________________________________________________\n"
          ],
          "name": "stdout"
        }
      ]
    },
    {
      "cell_type": "code",
      "metadata": {
        "colab": {
          "base_uri": "https://localhost:8080/"
        },
        "id": "oHsK2yBwr-bj",
        "outputId": "a750db4a-96b2-45a2-8f46-34f560886419"
      },
      "source": [
        " def create_discriminator():\n",
        "   return keras.Sequential([\n",
        "                     layers.InputLayer(IMAGE_SHAPE,name=\"Input layer\"),\n",
        "                     layers.Conv2DTranspose(filters=32,kernel_size=(3,3),activation=\"elu\"),\n",
        "                     layers.Conv2D(filters=32,kernel_size=(3,3),activation='elu'),\n",
        "                     layers.Conv2D(filters=32,kernel_size=(3,3),strides=(1,1),activation='elu'),\n",
        "                     layers.Conv2D(filters=64,kernel_size=(3,3),strides=(1,1),activation=\"elu\"),\n",
        "                     layers.MaxPool2D(pool_size=(2,2)),\n",
        "                     layers.Conv2D(filters=64,kernel_size=(5,5),strides=(1,1),activation=\"elu\"),\n",
        "                     layers.Conv2D(filters=10,kernel_size=(5,5),strides=(1,1),activation=\"elu\"),\n",
        "                     layers.Flatten(),\n",
        "                     layers.Dense(256,activation=\"tanh\",kernel_regularizer=regularizers.l2()),\n",
        "                     layers.Dense(1,activation=\"sigmoid\")\n",
        "   ],name=\"discriminator\")\n",
        "discriminator = create_discriminator()\n",
        "discriminator.summary()"
      ],
      "execution_count": 69,
      "outputs": [
        {
          "output_type": "stream",
          "text": [
            "Model: \"discriminator\"\n",
            "_________________________________________________________________\n",
            "Layer (type)                 Output Shape              Param #   \n",
            "=================================================================\n",
            "conv2d_transpose_6 (Conv2DTr (None, 38, 38, 32)        896       \n",
            "_________________________________________________________________\n",
            "conv2d_6 (Conv2D)            (None, 36, 36, 32)        9248      \n",
            "_________________________________________________________________\n",
            "conv2d_7 (Conv2D)            (None, 34, 34, 32)        9248      \n",
            "_________________________________________________________________\n",
            "conv2d_8 (Conv2D)            (None, 32, 32, 64)        18496     \n",
            "_________________________________________________________________\n",
            "max_pooling2d_1 (MaxPooling2 (None, 16, 16, 64)        0         \n",
            "_________________________________________________________________\n",
            "conv2d_9 (Conv2D)            (None, 12, 12, 64)        102464    \n",
            "_________________________________________________________________\n",
            "conv2d_10 (Conv2D)           (None, 8, 8, 10)          16010     \n",
            "_________________________________________________________________\n",
            "flatten (Flatten)            (None, 640)               0         \n",
            "_________________________________________________________________\n",
            "dense_1 (Dense)              (None, 256)               164096    \n",
            "_________________________________________________________________\n",
            "dense_2 (Dense)              (None, 1)                 257       \n",
            "=================================================================\n",
            "Total params: 320,715\n",
            "Trainable params: 320,715\n",
            "Non-trainable params: 0\n",
            "_________________________________________________________________\n"
          ],
          "name": "stdout"
        }
      ]
    },
    {
      "cell_type": "code",
      "metadata": {
        "id": "AXbHEdGnsS8K"
      },
      "source": [
        "keras.backend.clear_session()\n",
        "generator = create_generator()\n",
        "discriminator = create_discriminator()\n",
        "assert generator.output_shape[1 : ] == IMAGE_SHAPE, \"Generator produces output shape {} instead of {}\".format(generator.output_shape[1 : ], IMAGE_SHAPE)"
      ],
      "execution_count": 106,
      "outputs": []
    },
    {
      "cell_type": "code",
      "metadata": {
        "id": "v_zHfr6sxXC-"
      },
      "source": [
        "noise = keras.Input(dtype=tf.dtypes.float32,shape=(CODE_SIZE))\n",
        "real_data = keras.Input(dtype=tf.dtypes.float32,shape=list(IMAGE_SHAPE))\n",
        "\n",
        "logp_real = discriminator(real_data)\n",
        "\n",
        "generated_data = generator(noise)\n",
        "\n",
        "logp_gen = discriminator(generated_data)"
      ],
      "execution_count": 107,
      "outputs": []
    },
    {
      "cell_type": "code",
      "metadata": {
        "id": "5Pe-1os41Tm-"
      },
      "source": [
        "#From Git\n",
        "def discriminator_loss(gen,disc):\n",
        "  return lambda images, code  : -tf.math.reduce_mean(tf.math.log( disc(images) ) + tf.math.log( 1- disc(gen(codes)) ) )\n",
        "def generator_loss(gen,disc):\n",
        "  return lambda code : -tf.math.reduce_mean(    tf.math.log( disc(gen(code)) )   )"
      ],
      "execution_count": 108,
      "outputs": []
    },
    {
      "cell_type": "code",
      "metadata": {
        "id": "-9p6kqIBG45O"
      },
      "source": [
        "#Mine\n",
        "def discriminator_loss(gen,disc):\n",
        "  return lambda images, code  : -tf.math.reduce_mean(tf.math.log( 1-disc(images) ) + tf.math.log(  disc(gen(codes)) ) )\n",
        "def generator_loss(gen,disc):\n",
        "  return lambda code : -tf.math.reduce_mean(    tf.math.log(1- disc(gen(code)) )   )"
      ],
      "execution_count": 109,
      "outputs": []
    },
    {
      "cell_type": "markdown",
      "metadata": {
        "id": "ilawjISyGZlr"
      },
      "source": [
        ""
      ]
    },
    {
      "cell_type": "code",
      "metadata": {
        "id": "vyPDJCBl7Ewy"
      },
      "source": [
        "disc_opt = optimizers.SGD(1e-3)\n",
        "disc_loss = discriminator_loss(generator, discriminator)\n",
        "\n",
        "gen_opt = optimizers.Adam(1e-4)\n",
        "gen_loss = generator_loss(generator, discriminator)"
      ],
      "execution_count": 110,
      "outputs": []
    },
    {
      "cell_type": "code",
      "metadata": {
        "id": "5G_ikbUn7MDc"
      },
      "source": [
        "\n",
        "def sample_codes(batch_size):\n",
        "    return np.float32(np.random.normal(size=(batch_size, CODE_SIZE)))\n",
        "\n",
        "def sample_images(batch_size):\n",
        "    return data[ np.random.choice(len(data), size=batch_size) ]\n",
        "\n",
        "def plot_images(nrow, ncol):\n",
        "    preds = generator.predict(sample_codes(nrow * ncol))\n",
        "\n",
        "    for i in range(nrow * ncol):\n",
        "        plt.subplot(nrow, ncol, i + 1)\n",
        "        plt.imshow(preds[i].clip(0., 1.), interpolation=\"none\")\n",
        "        plt.axis(\"off\")\n",
        "    plt.show()\n",
        "\n",
        "def plot_probas(size):\n",
        "    plt.hist(discriminator.predict(sample_images(size)),\n",
        "        range=(0, 1), alpha=0.5, label=\"D(x)\"\n",
        "    )\n",
        "    plt.hist(discriminator.predict(generator.predict(sample_codes(size))),\n",
        "        range=(0, 1), alpha=0.5, label=\"D(G(x))\"\n",
        "    )\n",
        "    plt.legend()\n",
        "    plt.show()"
      ],
      "execution_count": 102,
      "outputs": []
    },
    {
      "cell_type": "code",
      "metadata": {
        "id": "-xsGsgj27lRN"
      },
      "source": [
        "epoch = tf.Variable(0)\n",
        "\n",
        "ckpt = tf.train.Checkpoint(epoch=epoch, disc=discriminator, gen=generator, disc_opt=disc_opt, gen_opt=gen_opt)\n",
        "manager = tf.train.CheckpointManager(ckpt, directory=\"./checkpoints\", max_to_keep=10)\n",
        "\n",
        "status = ckpt.restore(manager.latest_checkpoint)"
      ],
      "execution_count": 112,
      "outputs": []
    },
    {
      "cell_type": "code",
      "metadata": {
        "colab": {
          "base_uri": "https://localhost:8080/",
          "height": 530
        },
        "id": "YxvzOr4l7sDf",
        "outputId": "aa8c80da-be72-4581-f72f-6ae992897dcc"
      },
      "source": [
        "\n",
        "for _ in progress(range(20000)):\n",
        "    codes = sample_codes(100)\n",
        "    images = sample_images(100)\n",
        "\n",
        "    for n in range(5):\n",
        "        disc_opt.minimize(lambda: disc_loss(images, codes), discriminator.trainable_weights)\n",
        "\n",
        "    gen_opt.minimize(lambda: gen_loss(codes), generator.trainable_weights)\n",
        "\n",
        "    if epoch.numpy() % 100 == 0:\n",
        "        display.clear_output(wait=True)\n",
        "\n",
        "        print(\"Epoch:\", epoch.numpy())\n",
        "        plot_images(2, 3)\n",
        "        plot_probas(1000)\n",
        "        manager.save()\n",
        "\n",
        "    epoch.assign_add(1)"
      ],
      "execution_count": null,
      "outputs": [
        {
          "output_type": "stream",
          "text": [
            "Epoch: 6100\n"
          ],
          "name": "stdout"
        },
        {
          "output_type": "display_data",
          "data": {
            "image/png": "[encoded data removed]",
            "text/plain": [
              "<Figure size 432x288 with 6 Axes>"
            ]
          },
          "metadata": {
            "tags": [],
            "needs_background": "light"
          }
        },
        {
          "output_type": "display_data",
          "data": {
            "image/png": "[encoded data removed]",
            "text/plain": [
              "<Figure size 432x288 with 1 Axes>"
            ]
          },
          "metadata": {
            "tags": [],
            "needs_background": "light"
          }
        },
        {
          "output_type": "stream",
          "text": [
            "*******"
          ],
          "name": "stdout"
        }
      ]
    },
    {
      "cell_type": "code",
      "metadata": {
        "id": "Qh_6f6YP72-H"
      },
      "source": [
        ""
      ],
      "execution_count": null,
      "outputs": []
    }
  ]
}